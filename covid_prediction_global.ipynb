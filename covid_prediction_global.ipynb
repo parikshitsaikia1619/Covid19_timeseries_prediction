{
 "cells": [
  {
   "cell_type": "code",
   "execution_count": 4,
   "metadata": {},
   "outputs": [],
   "source": [
    "import numpy as np\n",
    "import pandas as pd\n",
    "import matplotlib.pyplot as plt\n",
    "from datetime import datetime as dt\n",
    "import torch\n",
    "from torch import nn"
   ]
  },
  {
   "cell_type": "code",
   "execution_count": 6,
   "metadata": {},
   "outputs": [],
   "source": [
    "data = pd.read_csv('covid_custom_dataset.csv')"
   ]
  },
  {
   "cell_type": "code",
   "execution_count": 15,
   "metadata": {},
   "outputs": [
    {
     "data": {
      "text/html": [
       "<div>\n",
       "<style scoped>\n",
       "    .dataframe tbody tr th:only-of-type {\n",
       "        vertical-align: middle;\n",
       "    }\n",
       "\n",
       "    .dataframe tbody tr th {\n",
       "        vertical-align: top;\n",
       "    }\n",
       "\n",
       "    .dataframe thead th {\n",
       "        text-align: right;\n",
       "    }\n",
       "</style>\n",
       "<table border=\"1\" class=\"dataframe\">\n",
       "  <thead>\n",
       "    <tr style=\"text-align: right;\">\n",
       "      <th></th>\n",
       "      <th>dates</th>\n",
       "      <th>cases</th>\n",
       "      <th>day</th>\n",
       "      <th>month</th>\n",
       "      <th>year</th>\n",
       "    </tr>\n",
       "  </thead>\n",
       "  <tbody>\n",
       "    <tr>\n",
       "      <th>0</th>\n",
       "      <td>2020-01-21</td>\n",
       "      <td>282</td>\n",
       "      <td>21</td>\n",
       "      <td>1</td>\n",
       "      <td>2020</td>\n",
       "    </tr>\n",
       "    <tr>\n",
       "      <th>1</th>\n",
       "      <td>2020-01-22</td>\n",
       "      <td>314</td>\n",
       "      <td>22</td>\n",
       "      <td>1</td>\n",
       "      <td>2020</td>\n",
       "    </tr>\n",
       "    <tr>\n",
       "      <th>2</th>\n",
       "      <td>2020-01-23</td>\n",
       "      <td>581</td>\n",
       "      <td>23</td>\n",
       "      <td>1</td>\n",
       "      <td>2020</td>\n",
       "    </tr>\n",
       "    <tr>\n",
       "      <th>3</th>\n",
       "      <td>2020-01-24</td>\n",
       "      <td>846</td>\n",
       "      <td>24</td>\n",
       "      <td>1</td>\n",
       "      <td>2020</td>\n",
       "    </tr>\n",
       "    <tr>\n",
       "      <th>4</th>\n",
       "      <td>2020-01-25</td>\n",
       "      <td>1320</td>\n",
       "      <td>25</td>\n",
       "      <td>1</td>\n",
       "      <td>2020</td>\n",
       "    </tr>\n",
       "    <tr>\n",
       "      <th>5</th>\n",
       "      <td>2020-01-26</td>\n",
       "      <td>2014</td>\n",
       "      <td>26</td>\n",
       "      <td>1</td>\n",
       "      <td>2020</td>\n",
       "    </tr>\n",
       "    <tr>\n",
       "      <th>6</th>\n",
       "      <td>2020-01-27</td>\n",
       "      <td>2798</td>\n",
       "      <td>27</td>\n",
       "      <td>1</td>\n",
       "      <td>2020</td>\n",
       "    </tr>\n",
       "    <tr>\n",
       "      <th>7</th>\n",
       "      <td>2020-01-28</td>\n",
       "      <td>4593</td>\n",
       "      <td>28</td>\n",
       "      <td>1</td>\n",
       "      <td>2020</td>\n",
       "    </tr>\n",
       "    <tr>\n",
       "      <th>8</th>\n",
       "      <td>2020-01-29</td>\n",
       "      <td>6065</td>\n",
       "      <td>29</td>\n",
       "      <td>1</td>\n",
       "      <td>2020</td>\n",
       "    </tr>\n",
       "    <tr>\n",
       "      <th>9</th>\n",
       "      <td>2020-01-30</td>\n",
       "      <td>7818</td>\n",
       "      <td>30</td>\n",
       "      <td>1</td>\n",
       "      <td>2020</td>\n",
       "    </tr>\n",
       "  </tbody>\n",
       "</table>\n",
       "</div>"
      ],
      "text/plain": [
       "       dates  cases  day  month  year\n",
       "0 2020-01-21    282   21      1  2020\n",
       "1 2020-01-22    314   22      1  2020\n",
       "2 2020-01-23    581   23      1  2020\n",
       "3 2020-01-24    846   24      1  2020\n",
       "4 2020-01-25   1320   25      1  2020\n",
       "5 2020-01-26   2014   26      1  2020\n",
       "6 2020-01-27   2798   27      1  2020\n",
       "7 2020-01-28   4593   28      1  2020\n",
       "8 2020-01-29   6065   29      1  2020\n",
       "9 2020-01-30   7818   30      1  2020"
      ]
     },
     "execution_count": 15,
     "metadata": {},
     "output_type": "execute_result"
    }
   ],
   "source": [
    "data.head(n=10)"
   ]
  },
  {
   "cell_type": "code",
   "execution_count": 11,
   "metadata": {},
   "outputs": [
    {
     "data": {
      "image/png": "[encoded data removed]",
      "text/plain": [
       "<Figure size 432x288 with 1 Axes>"
      ]
     },
     "metadata": {
      "needs_background": "light"
     },
     "output_type": "display_data"
    }
   ],
   "source": [
    "x = data['dates']\n",
    "y = data['cases']\n",
    "x = x.to_numpy()\n",
    "y = y.to_numpy()\n",
    "plt.scatter(x,y)\n",
    "plt.show()"
   ]
  },
  {
   "cell_type": "code",
   "execution_count": 14,
   "metadata": {},
   "outputs": [],
   "source": [
    "data['dates'] = pd.to_datetime(data['dates'])\n",
    "data['day'] = data['dates'].dt.day\n",
    "data['month'] = data['dates'].dt.month\n",
    "data['year'] = data['dates'].dt.year\n"
   ]
  },
  {
   "cell_type": "code",
   "execution_count": 17,
   "metadata": {},
   "outputs": [
    {
     "data": {
      "text/html": [
       "<div>\n",
       "<style scoped>\n",
       "    .dataframe tbody tr th:only-of-type {\n",
       "        vertical-align: middle;\n",
       "    }\n",
       "\n",
       "    .dataframe tbody tr th {\n",
       "        vertical-align: top;\n",
       "    }\n",
       "\n",
       "    .dataframe thead th {\n",
       "        text-align: right;\n",
       "    }\n",
       "</style>\n",
       "<table border=\"1\" class=\"dataframe\">\n",
       "  <thead>\n",
       "    <tr style=\"text-align: right;\">\n",
       "      <th></th>\n",
       "      <th>year</th>\n",
       "      <th>month</th>\n",
       "      <th>day</th>\n",
       "      <th>cases</th>\n",
       "    </tr>\n",
       "  </thead>\n",
       "  <tbody>\n",
       "    <tr>\n",
       "      <th>0</th>\n",
       "      <td>2020</td>\n",
       "      <td>1</td>\n",
       "      <td>21</td>\n",
       "      <td>282</td>\n",
       "    </tr>\n",
       "    <tr>\n",
       "      <th>1</th>\n",
       "      <td>2020</td>\n",
       "      <td>1</td>\n",
       "      <td>22</td>\n",
       "      <td>314</td>\n",
       "    </tr>\n",
       "    <tr>\n",
       "      <th>2</th>\n",
       "      <td>2020</td>\n",
       "      <td>1</td>\n",
       "      <td>23</td>\n",
       "      <td>581</td>\n",
       "    </tr>\n",
       "    <tr>\n",
       "      <th>3</th>\n",
       "      <td>2020</td>\n",
       "      <td>1</td>\n",
       "      <td>24</td>\n",
       "      <td>846</td>\n",
       "    </tr>\n",
       "    <tr>\n",
       "      <th>4</th>\n",
       "      <td>2020</td>\n",
       "      <td>1</td>\n",
       "      <td>25</td>\n",
       "      <td>1320</td>\n",
       "    </tr>\n",
       "    <tr>\n",
       "      <th>5</th>\n",
       "      <td>2020</td>\n",
       "      <td>1</td>\n",
       "      <td>26</td>\n",
       "      <td>2014</td>\n",
       "    </tr>\n",
       "    <tr>\n",
       "      <th>6</th>\n",
       "      <td>2020</td>\n",
       "      <td>1</td>\n",
       "      <td>27</td>\n",
       "      <td>2798</td>\n",
       "    </tr>\n",
       "    <tr>\n",
       "      <th>7</th>\n",
       "      <td>2020</td>\n",
       "      <td>1</td>\n",
       "      <td>28</td>\n",
       "      <td>4593</td>\n",
       "    </tr>\n",
       "    <tr>\n",
       "      <th>8</th>\n",
       "      <td>2020</td>\n",
       "      <td>1</td>\n",
       "      <td>29</td>\n",
       "      <td>6065</td>\n",
       "    </tr>\n",
       "    <tr>\n",
       "      <th>9</th>\n",
       "      <td>2020</td>\n",
       "      <td>1</td>\n",
       "      <td>30</td>\n",
       "      <td>7818</td>\n",
       "    </tr>\n",
       "  </tbody>\n",
       "</table>\n",
       "</div>"
      ],
      "text/plain": [
       "   year  month  day  cases\n",
       "0  2020      1   21    282\n",
       "1  2020      1   22    314\n",
       "2  2020      1   23    581\n",
       "3  2020      1   24    846\n",
       "4  2020      1   25   1320\n",
       "5  2020      1   26   2014\n",
       "6  2020      1   27   2798\n",
       "7  2020      1   28   4593\n",
       "8  2020      1   29   6065\n",
       "9  2020      1   30   7818"
      ]
     },
     "execution_count": 17,
     "metadata": {},
     "output_type": "execute_result"
    }
   ],
   "source": [
    "data = data.drop(columns='dates')\n",
    "data = data[['year','month','day','cases']]\n",
    "data.head(n=10)"
   ]
  },
  {
   "cell_type": "code",
   "execution_count": 20,
   "metadata": {},
   "outputs": [],
   "source": [
    "x = data[['year','month','day']]\n",
    "y = data[['cases']]\n",
    "x = x.to_numpy()\n",
    "y = y.to_numpy()"
   ]
  },
  {
   "cell_type": "code",
   "execution_count": 21,
   "metadata": {},
   "outputs": [
    {
     "name": "stdout",
     "output_type": "stream",
     "text": [
      "(134, 3) (134, 1)\n"
     ]
    }
   ],
   "source": [
    "print(x.shape,y.shape)"
   ]
  },
  {
   "cell_type": "code",
   "execution_count": 22,
   "metadata": {},
   "outputs": [
    {
     "name": "stderr",
     "output_type": "stream",
     "text": [
      "D:\\anaconda\\envs\\tensorflow_gpu\\lib\\site-packages\\sklearn\\utils\\validation.py:595: DataConversionWarning: Data with input dtype int64 was converted to float64 by StandardScaler.\n",
      "  warnings.warn(msg, DataConversionWarning)\n",
      "D:\\anaconda\\envs\\tensorflow_gpu\\lib\\site-packages\\sklearn\\utils\\validation.py:595: DataConversionWarning: Data with input dtype int64 was converted to float64 by StandardScaler.\n",
      "  warnings.warn(msg, DataConversionWarning)\n",
      "D:\\anaconda\\envs\\tensorflow_gpu\\lib\\site-packages\\sklearn\\utils\\validation.py:595: DataConversionWarning: Data with input dtype int64 was converted to float64 by StandardScaler.\n",
      "  warnings.warn(msg, DataConversionWarning)\n",
      "D:\\anaconda\\envs\\tensorflow_gpu\\lib\\site-packages\\sklearn\\utils\\validation.py:595: DataConversionWarning: Data with input dtype int64 was converted to float64 by StandardScaler.\n",
      "  warnings.warn(msg, DataConversionWarning)\n"
     ]
    }
   ],
   "source": [
    "from sklearn.preprocessing import StandardScaler\n",
    "sc = StandardScaler()\n",
    "x_data = sc.fit_transform(x)\n",
    "y_data = sc.fit_transform(y)"
   ]
  },
  {
   "cell_type": "code",
   "execution_count": 23,
   "metadata": {},
   "outputs": [
    {
     "data": {
      "text/plain": [
       "array([[ 0.        , -1.80011756,  0.52389229],\n",
       "       [ 0.        , -1.80011756,  0.63479524],\n",
       "       [ 0.        , -1.80011756,  0.74569819],\n",
       "       [ 0.        , -1.80011756,  0.85660114],\n",
       "       [ 0.        , -1.80011756,  0.96750409],\n",
       "       [ 0.        , -1.80011756,  1.07840704],\n",
       "       [ 0.        , -1.80011756,  1.18930999],\n",
       "       [ 0.        , -1.80011756,  1.30021293],\n",
       "       [ 0.        , -1.80011756,  1.41111588],\n",
       "       [ 0.        , -1.80011756,  1.52201883],\n",
       "       [ 0.        , -1.80011756,  1.63292178],\n",
       "       [ 0.        , -1.03435327, -1.69416669],\n",
       "       [ 0.        , -1.03435327, -1.58326374],\n",
       "       [ 0.        , -1.03435327, -1.4723608 ],\n",
       "       [ 0.        , -1.03435327, -1.36145785],\n",
       "       [ 0.        , -1.03435327, -1.2505549 ],\n",
       "       [ 0.        , -1.03435327, -1.13965195],\n",
       "       [ 0.        , -1.03435327, -1.028749  ],\n",
       "       [ 0.        , -1.03435327, -0.91784605],\n",
       "       [ 0.        , -1.03435327, -0.8069431 ],\n",
       "       [ 0.        , -1.03435327, -0.69604015],\n",
       "       [ 0.        , -1.03435327, -0.5851372 ],\n",
       "       [ 0.        , -1.03435327, -0.47423425],\n",
       "       [ 0.        , -1.03435327, -0.3633313 ],\n",
       "       [ 0.        , -1.03435327, -0.25242835],\n",
       "       [ 0.        , -1.03435327, -0.14152541],\n",
       "       [ 0.        , -1.03435327, -0.03062246],\n",
       "       [ 0.        , -1.03435327,  0.08028049],\n",
       "       [ 0.        , -1.03435327,  0.19118344],\n",
       "       [ 0.        , -1.03435327,  0.30208639],\n",
       "       [ 0.        , -1.03435327,  0.41298934],\n",
       "       [ 0.        , -1.03435327,  0.52389229],\n",
       "       [ 0.        , -1.03435327,  0.63479524],\n",
       "       [ 0.        , -1.03435327,  0.74569819],\n",
       "       [ 0.        , -1.03435327,  0.85660114],\n",
       "       [ 0.        , -1.03435327,  0.96750409],\n",
       "       [ 0.        , -1.03435327,  1.07840704],\n",
       "       [ 0.        , -1.03435327,  1.18930999],\n",
       "       [ 0.        , -1.03435327,  1.30021293],\n",
       "       [ 0.        , -1.03435327,  1.41111588],\n",
       "       [ 0.        , -0.26858897, -1.69416669],\n",
       "       [ 0.        , -0.26858897, -1.58326374],\n",
       "       [ 0.        , -0.26858897, -1.4723608 ],\n",
       "       [ 0.        , -0.26858897, -1.36145785],\n",
       "       [ 0.        , -0.26858897, -1.2505549 ],\n",
       "       [ 0.        , -0.26858897, -1.13965195],\n",
       "       [ 0.        , -0.26858897, -1.028749  ],\n",
       "       [ 0.        , -0.26858897, -0.91784605],\n",
       "       [ 0.        , -0.26858897, -0.8069431 ],\n",
       "       [ 0.        , -0.26858897, -0.69604015],\n",
       "       [ 0.        , -0.26858897, -0.5851372 ],\n",
       "       [ 0.        , -0.26858897, -0.47423425],\n",
       "       [ 0.        , -0.26858897, -0.3633313 ],\n",
       "       [ 0.        , -0.26858897, -0.25242835],\n",
       "       [ 0.        , -0.26858897, -0.14152541],\n",
       "       [ 0.        , -0.26858897, -0.03062246],\n",
       "       [ 0.        , -0.26858897,  0.08028049],\n",
       "       [ 0.        , -0.26858897,  0.19118344],\n",
       "       [ 0.        , -0.26858897,  0.30208639],\n",
       "       [ 0.        , -0.26858897,  0.41298934],\n",
       "       [ 0.        , -0.26858897,  0.52389229],\n",
       "       [ 0.        , -0.26858897,  0.63479524],\n",
       "       [ 0.        , -0.26858897,  0.74569819],\n",
       "       [ 0.        , -0.26858897,  0.85660114],\n",
       "       [ 0.        , -0.26858897,  0.96750409],\n",
       "       [ 0.        , -0.26858897,  1.07840704],\n",
       "       [ 0.        , -0.26858897,  1.18930999],\n",
       "       [ 0.        , -0.26858897,  1.30021293],\n",
       "       [ 0.        , -0.26858897,  1.41111588],\n",
       "       [ 0.        , -0.26858897,  1.52201883],\n",
       "       [ 0.        , -0.26858897,  1.63292178],\n",
       "       [ 0.        ,  0.49717533, -1.69416669],\n",
       "       [ 0.        ,  0.49717533, -1.58326374],\n",
       "       [ 0.        ,  0.49717533, -1.4723608 ],\n",
       "       [ 0.        ,  0.49717533, -1.36145785],\n",
       "       [ 0.        ,  0.49717533, -1.2505549 ],\n",
       "       [ 0.        ,  0.49717533, -1.13965195],\n",
       "       [ 0.        ,  0.49717533, -1.028749  ],\n",
       "       [ 0.        ,  0.49717533, -0.91784605],\n",
       "       [ 0.        ,  0.49717533, -0.8069431 ],\n",
       "       [ 0.        ,  0.49717533, -0.69604015],\n",
       "       [ 0.        ,  0.49717533, -0.5851372 ],\n",
       "       [ 0.        ,  0.49717533, -0.47423425],\n",
       "       [ 0.        ,  0.49717533, -0.3633313 ],\n",
       "       [ 0.        ,  0.49717533, -0.25242835],\n",
       "       [ 0.        ,  0.49717533, -0.14152541],\n",
       "       [ 0.        ,  0.49717533, -0.03062246],\n",
       "       [ 0.        ,  0.49717533,  0.08028049],\n",
       "       [ 0.        ,  0.49717533,  0.19118344],\n",
       "       [ 0.        ,  0.49717533,  0.30208639],\n",
       "       [ 0.        ,  0.49717533,  0.41298934],\n",
       "       [ 0.        ,  0.49717533,  0.52389229],\n",
       "       [ 0.        ,  0.49717533,  0.63479524],\n",
       "       [ 0.        ,  0.49717533,  0.74569819],\n",
       "       [ 0.        ,  0.49717533,  0.85660114],\n",
       "       [ 0.        ,  0.49717533,  0.96750409],\n",
       "       [ 0.        ,  0.49717533,  1.07840704],\n",
       "       [ 0.        ,  0.49717533,  1.18930999],\n",
       "       [ 0.        ,  0.49717533,  1.30021293],\n",
       "       [ 0.        ,  0.49717533,  1.41111588],\n",
       "       [ 0.        ,  0.49717533,  1.52201883],\n",
       "       [ 0.        ,  1.26293962, -1.69416669],\n",
       "       [ 0.        ,  1.26293962, -1.58326374],\n",
       "       [ 0.        ,  1.26293962, -1.4723608 ],\n",
       "       [ 0.        ,  1.26293962, -1.36145785],\n",
       "       [ 0.        ,  1.26293962, -1.2505549 ],\n",
       "       [ 0.        ,  1.26293962, -1.13965195],\n",
       "       [ 0.        ,  1.26293962, -1.028749  ],\n",
       "       [ 0.        ,  1.26293962, -0.91784605],\n",
       "       [ 0.        ,  1.26293962, -0.8069431 ],\n",
       "       [ 0.        ,  1.26293962, -0.69604015],\n",
       "       [ 0.        ,  1.26293962, -0.5851372 ],\n",
       "       [ 0.        ,  1.26293962, -0.47423425],\n",
       "       [ 0.        ,  1.26293962, -0.3633313 ],\n",
       "       [ 0.        ,  1.26293962, -0.25242835],\n",
       "       [ 0.        ,  1.26293962, -0.14152541],\n",
       "       [ 0.        ,  1.26293962, -0.03062246],\n",
       "       [ 0.        ,  1.26293962,  0.08028049],\n",
       "       [ 0.        ,  1.26293962,  0.19118344],\n",
       "       [ 0.        ,  1.26293962,  0.30208639],\n",
       "       [ 0.        ,  1.26293962,  0.41298934],\n",
       "       [ 0.        ,  1.26293962,  0.52389229],\n",
       "       [ 0.        ,  1.26293962,  0.63479524],\n",
       "       [ 0.        ,  1.26293962,  0.74569819],\n",
       "       [ 0.        ,  1.26293962,  0.85660114],\n",
       "       [ 0.        ,  1.26293962,  0.96750409],\n",
       "       [ 0.        ,  1.26293962,  1.07840704],\n",
       "       [ 0.        ,  1.26293962,  1.18930999],\n",
       "       [ 0.        ,  1.26293962,  1.30021293],\n",
       "       [ 0.        ,  1.26293962,  1.41111588],\n",
       "       [ 0.        ,  1.26293962,  1.52201883],\n",
       "       [ 0.        ,  1.26293962,  1.63292178],\n",
       "       [ 0.        ,  2.02870392, -1.69416669],\n",
       "       [ 0.        ,  2.02870392, -1.58326374]])"
      ]
     },
     "execution_count": 23,
     "metadata": {},
     "output_type": "execute_result"
    }
   ],
   "source": [
    "x_data"
   ]
  },
  {
   "cell_type": "code",
   "execution_count": 24,
   "metadata": {},
   "outputs": [
    {
     "data": {
      "text/plain": [
       "array([[-0.85468665],\n",
       "       [-0.85466993],\n",
       "       [-0.85453047],\n",
       "       [-0.85439205],\n",
       "       [-0.85414447],\n",
       "       [-0.85378197],\n",
       "       [-0.85337247],\n",
       "       [-0.85243488],\n",
       "       [-0.85166601],\n",
       "       [-0.85075037],\n",
       "       [-0.84970153],\n",
       "       [-0.84859054],\n",
       "       [-0.84723039],\n",
       "       [-0.84575011],\n",
       "       [-0.84405828],\n",
       "       [-0.84200866],\n",
       "       [-0.84006455],\n",
       "       [-0.83839048],\n",
       "       [-0.83661195],\n",
       "       [-0.83521629],\n",
       "       [-0.83365139],\n",
       "       [-0.83231997],\n",
       "       [-0.83123979],\n",
       "       [-0.83028602],\n",
       "       [-0.82921211],\n",
       "       [-0.82841451],\n",
       "       [-0.82774749],\n",
       "       [-0.81752446],\n",
       "       [-0.81653047],\n",
       "       [-0.81555266],\n",
       "       [-0.81526852],\n",
       "       [-0.81473522],\n",
       "       [-0.81419983],\n",
       "       [-0.81366862],\n",
       "       [-0.81339701],\n",
       "       [-0.81292273],\n",
       "       [-0.81246831],\n",
       "       [-0.81184935],\n",
       "       [-0.81114002],\n",
       "       [-0.81022542],\n",
       "       [-0.8093197 ],\n",
       "       [-0.80837377],\n",
       "       [-0.80736985],\n",
       "       [-0.80620975],\n",
       "       [-0.80504339],\n",
       "       [-0.80354535],\n",
       "       [-0.80159445],\n",
       "       [-0.79968324],\n",
       "       [-0.79759863],\n",
       "       [-0.79544402],\n",
       "       [-0.79303242],\n",
       "       [-0.78951766],\n",
       "       [-0.7854905 ],\n",
       "       [-0.7803816 ],\n",
       "       [-0.77464746],\n",
       "       [-0.76733589],\n",
       "       [-0.76127896],\n",
       "       [-0.75500264],\n",
       "       [-0.74522881],\n",
       "       [-0.73257067],\n",
       "       [-0.71585612],\n",
       "       [-0.70223951],\n",
       "       [-0.68093473],\n",
       "       [-0.66013295],\n",
       "       [-0.63886787],\n",
       "       [-0.61316037],\n",
       "       [-0.58888249],\n",
       "       [-0.55623949],\n",
       "       [-0.52325229],\n",
       "       [-0.49271219],\n",
       "       [-0.46262183],\n",
       "       [-0.42462966],\n",
       "       [-0.38659152],\n",
       "       [-0.34697125],\n",
       "       [-0.30550141],\n",
       "       [-0.26263852],\n",
       "       [-0.22231571],\n",
       "       [-0.18639719],\n",
       "       [-0.14793336],\n",
       "       [-0.22231571],\n",
       "       [-0.06023891],\n",
       "       [-0.0134084 ],\n",
       "       [ 0.03134429],\n",
       "       [ 0.07130042],\n",
       "       [ 0.10879272],\n",
       "       [ 0.14538348],\n",
       "       [ 0.18541795],\n",
       "       [ 0.22875408],\n",
       "       [ 0.27350624],\n",
       "       [ 0.31611319],\n",
       "       [ 0.35416125],\n",
       "       [ 0.39730307],\n",
       "       [ 0.43591368],\n",
       "       [ 0.47438639],\n",
       "       [ 0.51697141],\n",
       "       [ 0.5658484 ],\n",
       "       [ 0.61019419],\n",
       "       [ 0.64853319],\n",
       "       [ 0.68824382],\n",
       "       [ 0.72191267],\n",
       "       [ 0.75939714],\n",
       "       [ 0.80367084],\n",
       "       [ 0.85171316],\n",
       "       [ 0.89485863],\n",
       "       [ 0.93983539],\n",
       "       [ 0.98237967],\n",
       "       [ 1.01968863],\n",
       "       [ 1.06328487],\n",
       "       [ 1.10910833],\n",
       "       [ 1.15916945],\n",
       "       [ 1.1913225 ],\n",
       "       [ 1.2377529 ],\n",
       "       [ 1.28089263],\n",
       "       [ 1.3235022 ],\n",
       "       [ 1.36422563],\n",
       "       [ 1.4113758 ],\n",
       "       [ 1.45672812],\n",
       "       [ 1.50896736],\n",
       "       [ 1.55771325],\n",
       "       [ 1.61654689],\n",
       "       [ 1.64670986],\n",
       "       [ 1.70102223],\n",
       "       [ 1.75340353],\n",
       "       [ 1.81061743],\n",
       "       [ 1.86363494],\n",
       "       [ 1.9160058 ],\n",
       "       [ 1.96810296],\n",
       "       [ 2.01214214],\n",
       "       [ 2.06688542],\n",
       "       [ 2.12314346],\n",
       "       [ 2.18375877],\n",
       "       [ 2.24515915],\n",
       "       [ 2.30936234],\n",
       "       [ 2.38075436]])"
      ]
     },
     "execution_count": 24,
     "metadata": {},
     "output_type": "execute_result"
    }
   ],
   "source": [
    "y_data"
   ]
  },
  {
   "cell_type": "code",
   "execution_count": 25,
   "metadata": {},
   "outputs": [],
   "source": [
    "class RNN(nn.Module):\n",
    "    def __init__(self, input_size, output_size, hidden_dim, n_layers):\n",
    "        super(RNN, self).__init__()\n",
    "        \n",
    "        self.hidden_dim=hidden_dim\n",
    "\n",
    "        # define an RNN with specified parameters\n",
    "        # batch_first means that the first dim of the input and output will be the batch_size\n",
    "        self.rnn = nn.RNN(input_size, hidden_dim, n_layers, batch_first=True)\n",
    "        \n",
    "        # last, fully-connected layer\n",
    "        self.fc = nn.Linear(hidden_dim, output_size)\n",
    "\n",
    "    def forward(self, x, hidden):\n",
    "        # x (batch_size, seq_length, input_size)\n",
    "        # hidden (n_layers, batch_size, hidden_dim)\n",
    "        # r_out (batch_size, time_step, hidden_size)\n",
    "        batch_size = x.size(0)\n",
    "        \n",
    "        # get RNN outputs\n",
    "        r_out, hidden = self.rnn(x, hidden)\n",
    "        # shape output to be (batch_size*seq_length, hidden_dim)\n",
    "        r_out = r_out.view(-1, self.hidden_dim)  \n",
    "        \n",
    "        # get final output \n",
    "        output = self.fc(r_out)\n",
    "        \n",
    "        return output, hidden\n"
   ]
  },
  {
   "cell_type": "code",
   "execution_count": 26,
   "metadata": {},
   "outputs": [
    {
     "name": "stdout",
     "output_type": "stream",
     "text": [
      "Input size:  torch.Size([1, 134, 3])\n",
      "Output size:  torch.Size([134, 1])\n",
      "Hidden state size:  torch.Size([2, 1, 10])\n"
     ]
    }
   ],
   "source": [
    "test_rnn = RNN(input_size=3, output_size=1, hidden_dim=10, n_layers=2)\n",
    "\n",
    "# generate evenly spaced, test data pts\n",
    "\n",
    "test_input = torch.Tensor(x_data).unsqueeze(0) # give it a batch_size of 1 as first dimension\n",
    "print('Input size: ', test_input.size())\n",
    "# test out rnn sizes\n",
    "test_out, test_h = test_rnn(test_input, None)\n",
    "test_out = torch.Tensor(y_data)\n",
    "print('Output size: ', test_out.size())\n",
    "print('Hidden state size: ', test_h.size())"
   ]
  },
  {
   "cell_type": "code",
   "execution_count": 27,
   "metadata": {},
   "outputs": [
    {
     "data": {
      "text/plain": [
       "tensor([[[ 0.6258, -0.2371, -0.3751,  0.7452, -0.1380,  0.6508,  0.0873,\n",
       "           0.1203,  0.4176, -0.6148]],\n",
       "\n",
       "        [[-0.7145,  0.2411,  0.4029,  0.0569, -0.0812,  0.2531,  0.0970,\n",
       "          -0.4966,  0.2159, -0.5905]]], grad_fn=<StackBackward>)"
      ]
     },
     "execution_count": 27,
     "metadata": {},
     "output_type": "execute_result"
    }
   ],
   "source": [
    "test_h"
   ]
  },
  {
   "cell_type": "code",
   "execution_count": 28,
   "metadata": {},
   "outputs": [
    {
     "name": "stdout",
     "output_type": "stream",
     "text": [
      "RNN(\n",
      "  (rnn): RNN(3, 32, batch_first=True)\n",
      "  (fc): Linear(in_features=32, out_features=1, bias=True)\n",
      ")\n"
     ]
    }
   ],
   "source": [
    "# decide on hyperparameters\n",
    "input_size=3\n",
    "output_size=1\n",
    "hidden_dim=32\n",
    "n_layers=1\n",
    "\n",
    "# instantiate an RNN\n",
    "rnn = RNN(input_size, output_size, hidden_dim, n_layers)\n",
    "print(rnn)\n",
    "\n",
    "# MSE loss and Adam optimizer with a learning rate of 0.01\n",
    "criterion = nn.MSELoss()\n",
    "optimizer = torch.optim.Adam(rnn.parameters(), lr=0.01) "
   ]
  },
  {
   "cell_type": "code",
   "execution_count": 29,
   "metadata": {},
   "outputs": [],
   "source": [
    "# train the RNN\n",
    "def train(rnn, n_steps, print_every):\n",
    "    \n",
    "    # initialize the hidden state\n",
    "    hidden = None      \n",
    "    \n",
    "    for batch_i, step in enumerate(range(n_steps)):\n",
    "        # defining the training data \n",
    "\n",
    "        x = x_data[:-1]\n",
    "        y = y_data[1:]\n",
    "        \n",
    "        # convert data into Tensors\n",
    "        x_tensor = torch.Tensor(x).unsqueeze(0) # unsqueeze gives a 1, batch_size dimension\n",
    "        y_tensor = torch.Tensor(y)\n",
    "\n",
    "        # outputs from the rnn\n",
    "        prediction, hidden = rnn(x_tensor, hidden)\n",
    "\n",
    "        ## Representing Memory ##\n",
    "        # make a new variable for hidden and detach the hidden state from its history\n",
    "        # this way, we don't backpropagate through the entire history\n",
    "        hidden = hidden.data\n",
    "\n",
    "        # calculate the loss\n",
    "        loss = criterion(prediction, y_tensor)\n",
    "        # zero gradients\n",
    "        optimizer.zero_grad()\n",
    "        # perform backprop and update weights\n",
    "        loss.backward()\n",
    "        optimizer.step()\n",
    "\n",
    "        # display loss and predictions\n",
    "        if batch_i%print_every == 0:        \n",
    "            print('Loss: ', loss.item())\n",
    "            plt.plot(prediction.data.numpy().flatten(), 'b.') # predictions\n",
    "            plt.show()\n",
    "    \n",
    "    return rnn\n"
   ]
  },
  {
   "cell_type": "code",
   "execution_count": 34,
   "metadata": {},
   "outputs": [
    {
     "name": "stdout",
     "output_type": "stream",
     "text": [
      "Loss:  0.002031866926699877\n"
     ]
    },
    {
     "data": {
      "image/png": "[encoded data removed]",
      "text/plain": [
       "<Figure size 432x288 with 1 Axes>"
      ]
     },
     "metadata": {
      "needs_background": "light"
     },
     "output_type": "display_data"
    },
    {
     "name": "stdout",
     "output_type": "stream",
     "text": [
      "Loss:  0.0001804627536330372\n"
     ]
    },
    {
     "data": {
      "image/png": "[encoded data removed]",
      "text/plain": [
       "<Figure size 432x288 with 1 Axes>"
      ]
     },
     "metadata": {
      "needs_background": "light"
     },
     "output_type": "display_data"
    },
    {
     "name": "stdout",
     "output_type": "stream",
     "text": [
      "Loss:  0.00018086317868437618\n"
     ]
    },
    {
     "data": {
      "image/png": "[encoded data removed]",
      "text/plain": [
       "<Figure size 432x288 with 1 Axes>"
      ]
     },
     "metadata": {
      "needs_background": "light"
     },
     "output_type": "display_data"
    },
    {
     "name": "stdout",
     "output_type": "stream",
     "text": [
      "Loss:  0.0001625801232876256\n"
     ]
    },
    {
     "data": {
      "image/png": "[encoded data removed]",
      "text/plain": [
       "<Figure size 432x288 with 1 Axes>"
      ]
     },
     "metadata": {
      "needs_background": "light"
     },
     "output_type": "display_data"
    },
    {
     "name": "stdout",
     "output_type": "stream",
     "text": [
      "Loss:  0.00018258107593283057\n"
     ]
    },
    {
     "data": {
      "image/png": "[encoded data removed]",
      "text/plain": [
       "<Figure size 432x288 with 1 Axes>"
      ]
     },
     "metadata": {
      "needs_background": "light"
     },
     "output_type": "display_data"
    },
    {
     "name": "stdout",
     "output_type": "stream",
     "text": [
      "Loss:  0.00012645886454265565\n"
     ]
    },
    {
     "data": {
      "image/png": "[encoded data removed]",
      "text/plain": [
       "<Figure size 432x288 with 1 Axes>"
      ]
     },
     "metadata": {
      "needs_background": "light"
     },
     "output_type": "display_data"
    },
    {
     "name": "stdout",
     "output_type": "stream",
     "text": [
      "Loss:  0.00012715307821054012\n"
     ]
    },
    {
     "data": {
      "image/png": "[encoded data removed]",
      "text/plain": [
       "<Figure size 432x288 with 1 Axes>"
      ]
     },
     "metadata": {
      "needs_background": "light"
     },
     "output_type": "display_data"
    }
   ],
   "source": [
    "# train the rnn and monitor results\n",
    "n_steps = 100\n",
    "print_every = 15\n",
    "\n",
    "trained_rnn = train(rnn, n_steps, print_every)"
   ]
  },
  {
   "cell_type": "code",
   "execution_count": null,
   "metadata": {},
   "outputs": [],
   "source": []
  },
  {
   "cell_type": "code",
   "execution_count": null,
   "metadata": {},
   "outputs": [],
   "source": []
  }
 ],
 "metadata": {
  "kernelspec": {
   "display_name": "Python 3",
   "language": "python",
   "name": "python3"
  },
  "language_info": {
   "codemirror_mode": {
    "name": "ipython",
    "version": 3
   },
   "file_extension": ".py",
   "mimetype": "text/x-python",
   "name": "python",
   "nbconvert_exporter": "python",
   "pygments_lexer": "ipython3",
   "version": "3.7.3"
  }
 },
 "nbformat": 4,
 "nbformat_minor": 2
}
