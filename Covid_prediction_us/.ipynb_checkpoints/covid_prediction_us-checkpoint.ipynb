{
 "cells": [
  {
   "cell_type": "code",
   "execution_count": 1,
   "metadata": {},
   "outputs": [],
   "source": [
    "import numpy as np\n",
    "import pandas as pd\n",
    "import matplotlib.pyplot as plt\n",
    "from datetime import datetime as dt\n",
    "import torch\n",
    "from torch import nn"
   ]
  },
  {
   "cell_type": "code",
   "execution_count": 2,
   "metadata": {},
   "outputs": [],
   "source": [
    "data = pd.read_csv('us-counties.csv')"
   ]
  },
  {
   "cell_type": "code",
   "execution_count": 3,
   "metadata": {},
   "outputs": [
    {
     "data": {
      "text/html": [
       "<div>\n",
       "<style scoped>\n",
       "    .dataframe tbody tr th:only-of-type {\n",
       "        vertical-align: middle;\n",
       "    }\n",
       "\n",
       "    .dataframe tbody tr th {\n",
       "        vertical-align: top;\n",
       "    }\n",
       "\n",
       "    .dataframe thead th {\n",
       "        text-align: right;\n",
       "    }\n",
       "</style>\n",
       "<table border=\"1\" class=\"dataframe\">\n",
       "  <thead>\n",
       "    <tr style=\"text-align: right;\">\n",
       "      <th></th>\n",
       "      <th>date</th>\n",
       "      <th>county</th>\n",
       "      <th>state</th>\n",
       "      <th>fips</th>\n",
       "      <th>cases</th>\n",
       "      <th>deaths</th>\n",
       "    </tr>\n",
       "  </thead>\n",
       "  <tbody>\n",
       "    <tr>\n",
       "      <th>0</th>\n",
       "      <td>2020-01-21</td>\n",
       "      <td>Snohomish</td>\n",
       "      <td>Washington</td>\n",
       "      <td>53061.0</td>\n",
       "      <td>1</td>\n",
       "      <td>0</td>\n",
       "    </tr>\n",
       "    <tr>\n",
       "      <th>1</th>\n",
       "      <td>2020-01-22</td>\n",
       "      <td>Snohomish</td>\n",
       "      <td>Washington</td>\n",
       "      <td>53061.0</td>\n",
       "      <td>1</td>\n",
       "      <td>0</td>\n",
       "    </tr>\n",
       "    <tr>\n",
       "      <th>2</th>\n",
       "      <td>2020-01-23</td>\n",
       "      <td>Snohomish</td>\n",
       "      <td>Washington</td>\n",
       "      <td>53061.0</td>\n",
       "      <td>1</td>\n",
       "      <td>0</td>\n",
       "    </tr>\n",
       "    <tr>\n",
       "      <th>3</th>\n",
       "      <td>2020-01-24</td>\n",
       "      <td>Cook</td>\n",
       "      <td>Illinois</td>\n",
       "      <td>17031.0</td>\n",
       "      <td>1</td>\n",
       "      <td>0</td>\n",
       "    </tr>\n",
       "    <tr>\n",
       "      <th>4</th>\n",
       "      <td>2020-01-24</td>\n",
       "      <td>Snohomish</td>\n",
       "      <td>Washington</td>\n",
       "      <td>53061.0</td>\n",
       "      <td>1</td>\n",
       "      <td>0</td>\n",
       "    </tr>\n",
       "    <tr>\n",
       "      <th>5</th>\n",
       "      <td>2020-01-25</td>\n",
       "      <td>Orange</td>\n",
       "      <td>California</td>\n",
       "      <td>6059.0</td>\n",
       "      <td>1</td>\n",
       "      <td>0</td>\n",
       "    </tr>\n",
       "    <tr>\n",
       "      <th>6</th>\n",
       "      <td>2020-01-25</td>\n",
       "      <td>Cook</td>\n",
       "      <td>Illinois</td>\n",
       "      <td>17031.0</td>\n",
       "      <td>1</td>\n",
       "      <td>0</td>\n",
       "    </tr>\n",
       "    <tr>\n",
       "      <th>7</th>\n",
       "      <td>2020-01-25</td>\n",
       "      <td>Snohomish</td>\n",
       "      <td>Washington</td>\n",
       "      <td>53061.0</td>\n",
       "      <td>1</td>\n",
       "      <td>0</td>\n",
       "    </tr>\n",
       "    <tr>\n",
       "      <th>8</th>\n",
       "      <td>2020-01-26</td>\n",
       "      <td>Maricopa</td>\n",
       "      <td>Arizona</td>\n",
       "      <td>4013.0</td>\n",
       "      <td>1</td>\n",
       "      <td>0</td>\n",
       "    </tr>\n",
       "    <tr>\n",
       "      <th>9</th>\n",
       "      <td>2020-01-26</td>\n",
       "      <td>Los Angeles</td>\n",
       "      <td>California</td>\n",
       "      <td>6037.0</td>\n",
       "      <td>1</td>\n",
       "      <td>0</td>\n",
       "    </tr>\n",
       "  </tbody>\n",
       "</table>\n",
       "</div>"
      ],
      "text/plain": [
       "         date       county       state     fips  cases  deaths\n",
       "0  2020-01-21    Snohomish  Washington  53061.0      1       0\n",
       "1  2020-01-22    Snohomish  Washington  53061.0      1       0\n",
       "2  2020-01-23    Snohomish  Washington  53061.0      1       0\n",
       "3  2020-01-24         Cook    Illinois  17031.0      1       0\n",
       "4  2020-01-24    Snohomish  Washington  53061.0      1       0\n",
       "5  2020-01-25       Orange  California   6059.0      1       0\n",
       "6  2020-01-25         Cook    Illinois  17031.0      1       0\n",
       "7  2020-01-25    Snohomish  Washington  53061.0      1       0\n",
       "8  2020-01-26     Maricopa     Arizona   4013.0      1       0\n",
       "9  2020-01-26  Los Angeles  California   6037.0      1       0"
      ]
     },
     "execution_count": 3,
     "metadata": {},
     "output_type": "execute_result"
    }
   ],
   "source": [
    "data.head(n=10)"
   ]
  },
  {
   "cell_type": "code",
   "execution_count": 4,
   "metadata": {},
   "outputs": [],
   "source": [
    "data = data.groupby(['date'],as_index = False).agg({'cases':sum})"
   ]
  },
  {
   "cell_type": "code",
   "execution_count": 5,
   "metadata": {},
   "outputs": [
    {
     "data": {
      "text/html": [
       "<div>\n",
       "<style scoped>\n",
       "    .dataframe tbody tr th:only-of-type {\n",
       "        vertical-align: middle;\n",
       "    }\n",
       "\n",
       "    .dataframe tbody tr th {\n",
       "        vertical-align: top;\n",
       "    }\n",
       "\n",
       "    .dataframe thead th {\n",
       "        text-align: right;\n",
       "    }\n",
       "</style>\n",
       "<table border=\"1\" class=\"dataframe\">\n",
       "  <thead>\n",
       "    <tr style=\"text-align: right;\">\n",
       "      <th></th>\n",
       "      <th>date</th>\n",
       "      <th>cases</th>\n",
       "    </tr>\n",
       "  </thead>\n",
       "  <tbody>\n",
       "    <tr>\n",
       "      <th>0</th>\n",
       "      <td>2020-01-21</td>\n",
       "      <td>1</td>\n",
       "    </tr>\n",
       "    <tr>\n",
       "      <th>1</th>\n",
       "      <td>2020-01-22</td>\n",
       "      <td>1</td>\n",
       "    </tr>\n",
       "    <tr>\n",
       "      <th>2</th>\n",
       "      <td>2020-01-23</td>\n",
       "      <td>1</td>\n",
       "    </tr>\n",
       "    <tr>\n",
       "      <th>3</th>\n",
       "      <td>2020-01-24</td>\n",
       "      <td>2</td>\n",
       "    </tr>\n",
       "    <tr>\n",
       "      <th>4</th>\n",
       "      <td>2020-01-25</td>\n",
       "      <td>3</td>\n",
       "    </tr>\n",
       "    <tr>\n",
       "      <th>5</th>\n",
       "      <td>2020-01-26</td>\n",
       "      <td>5</td>\n",
       "    </tr>\n",
       "    <tr>\n",
       "      <th>6</th>\n",
       "      <td>2020-01-27</td>\n",
       "      <td>5</td>\n",
       "    </tr>\n",
       "    <tr>\n",
       "      <th>7</th>\n",
       "      <td>2020-01-28</td>\n",
       "      <td>5</td>\n",
       "    </tr>\n",
       "    <tr>\n",
       "      <th>8</th>\n",
       "      <td>2020-01-29</td>\n",
       "      <td>5</td>\n",
       "    </tr>\n",
       "    <tr>\n",
       "      <th>9</th>\n",
       "      <td>2020-01-30</td>\n",
       "      <td>6</td>\n",
       "    </tr>\n",
       "  </tbody>\n",
       "</table>\n",
       "</div>"
      ],
      "text/plain": [
       "         date  cases\n",
       "0  2020-01-21      1\n",
       "1  2020-01-22      1\n",
       "2  2020-01-23      1\n",
       "3  2020-01-24      2\n",
       "4  2020-01-25      3\n",
       "5  2020-01-26      5\n",
       "6  2020-01-27      5\n",
       "7  2020-01-28      5\n",
       "8  2020-01-29      5\n",
       "9  2020-01-30      6"
      ]
     },
     "execution_count": 5,
     "metadata": {},
     "output_type": "execute_result"
    }
   ],
   "source": [
    "data.head(n=10)"
   ]
  },
  {
   "cell_type": "code",
   "execution_count": 6,
   "metadata": {},
   "outputs": [
    {
     "data": {
      "image/png": "[encoded data removed]",
      "text/plain": [
       "<Figure size 432x288 with 1 Axes>"
      ]
     },
     "metadata": {
      "needs_background": "light"
     },
     "output_type": "display_data"
    }
   ],
   "source": [
    "x = data['date']\n",
    "y = data['cases']\n",
    "x = x.to_numpy()\n",
    "y = y.to_numpy()\n",
    "plt.scatter(x,y)\n",
    "plt.show()"
   ]
  },
  {
   "cell_type": "code",
   "execution_count": 7,
   "metadata": {},
   "outputs": [],
   "source": [
    "data['date'] = pd.to_datetime(data['date'])\n",
    "data['day'] = data['date'].dt.day\n",
    "data['month'] = data['date'].dt.month\n",
    "data['year'] = data['date'].dt.year\n"
   ]
  },
  {
   "cell_type": "code",
   "execution_count": 8,
   "metadata": {},
   "outputs": [
    {
     "data": {
      "text/html": [
       "<div>\n",
       "<style scoped>\n",
       "    .dataframe tbody tr th:only-of-type {\n",
       "        vertical-align: middle;\n",
       "    }\n",
       "\n",
       "    .dataframe tbody tr th {\n",
       "        vertical-align: top;\n",
       "    }\n",
       "\n",
       "    .dataframe thead th {\n",
       "        text-align: right;\n",
       "    }\n",
       "</style>\n",
       "<table border=\"1\" class=\"dataframe\">\n",
       "  <thead>\n",
       "    <tr style=\"text-align: right;\">\n",
       "      <th></th>\n",
       "      <th>year</th>\n",
       "      <th>month</th>\n",
       "      <th>day</th>\n",
       "      <th>cases</th>\n",
       "    </tr>\n",
       "  </thead>\n",
       "  <tbody>\n",
       "    <tr>\n",
       "      <th>0</th>\n",
       "      <td>2020</td>\n",
       "      <td>1</td>\n",
       "      <td>21</td>\n",
       "      <td>1</td>\n",
       "    </tr>\n",
       "    <tr>\n",
       "      <th>1</th>\n",
       "      <td>2020</td>\n",
       "      <td>1</td>\n",
       "      <td>22</td>\n",
       "      <td>1</td>\n",
       "    </tr>\n",
       "    <tr>\n",
       "      <th>2</th>\n",
       "      <td>2020</td>\n",
       "      <td>1</td>\n",
       "      <td>23</td>\n",
       "      <td>1</td>\n",
       "    </tr>\n",
       "    <tr>\n",
       "      <th>3</th>\n",
       "      <td>2020</td>\n",
       "      <td>1</td>\n",
       "      <td>24</td>\n",
       "      <td>2</td>\n",
       "    </tr>\n",
       "    <tr>\n",
       "      <th>4</th>\n",
       "      <td>2020</td>\n",
       "      <td>1</td>\n",
       "      <td>25</td>\n",
       "      <td>3</td>\n",
       "    </tr>\n",
       "    <tr>\n",
       "      <th>5</th>\n",
       "      <td>2020</td>\n",
       "      <td>1</td>\n",
       "      <td>26</td>\n",
       "      <td>5</td>\n",
       "    </tr>\n",
       "    <tr>\n",
       "      <th>6</th>\n",
       "      <td>2020</td>\n",
       "      <td>1</td>\n",
       "      <td>27</td>\n",
       "      <td>5</td>\n",
       "    </tr>\n",
       "    <tr>\n",
       "      <th>7</th>\n",
       "      <td>2020</td>\n",
       "      <td>1</td>\n",
       "      <td>28</td>\n",
       "      <td>5</td>\n",
       "    </tr>\n",
       "    <tr>\n",
       "      <th>8</th>\n",
       "      <td>2020</td>\n",
       "      <td>1</td>\n",
       "      <td>29</td>\n",
       "      <td>5</td>\n",
       "    </tr>\n",
       "    <tr>\n",
       "      <th>9</th>\n",
       "      <td>2020</td>\n",
       "      <td>1</td>\n",
       "      <td>30</td>\n",
       "      <td>6</td>\n",
       "    </tr>\n",
       "  </tbody>\n",
       "</table>\n",
       "</div>"
      ],
      "text/plain": [
       "   year  month  day  cases\n",
       "0  2020      1   21      1\n",
       "1  2020      1   22      1\n",
       "2  2020      1   23      1\n",
       "3  2020      1   24      2\n",
       "4  2020      1   25      3\n",
       "5  2020      1   26      5\n",
       "6  2020      1   27      5\n",
       "7  2020      1   28      5\n",
       "8  2020      1   29      5\n",
       "9  2020      1   30      6"
      ]
     },
     "execution_count": 8,
     "metadata": {},
     "output_type": "execute_result"
    }
   ],
   "source": [
    "data = data.drop(columns='date')\n",
    "data = data[['year','month','day','cases']]\n",
    "data.head(n=10)"
   ]
  },
  {
   "cell_type": "code",
   "execution_count": 157,
   "metadata": {},
   "outputs": [],
   "source": [
    "x = data[['year','month','day']]\n",
    "y = data[['cases']]\n",
    "x = x.to_numpy()\n",
    "y = y.to_numpy()"
   ]
  },
  {
   "cell_type": "code",
   "execution_count": 158,
   "metadata": {},
   "outputs": [
    {
     "name": "stdout",
     "output_type": "stream",
     "text": [
      "(132, 3) (132, 1)\n"
     ]
    }
   ],
   "source": [
    "print(x.shape,y.shape)"
   ]
  },
  {
   "cell_type": "code",
   "execution_count": 159,
   "metadata": {},
   "outputs": [
    {
     "name": "stderr",
     "output_type": "stream",
     "text": [
      "D:\\anaconda\\envs\\tensorflow_gpu\\lib\\site-packages\\sklearn\\utils\\validation.py:595: DataConversionWarning: Data with input dtype int64 was converted to float64 by StandardScaler.\n",
      "  warnings.warn(msg, DataConversionWarning)\n",
      "D:\\anaconda\\envs\\tensorflow_gpu\\lib\\site-packages\\sklearn\\utils\\validation.py:595: DataConversionWarning: Data with input dtype int64 was converted to float64 by StandardScaler.\n",
      "  warnings.warn(msg, DataConversionWarning)\n",
      "D:\\anaconda\\envs\\tensorflow_gpu\\lib\\site-packages\\sklearn\\utils\\validation.py:595: DataConversionWarning: Data with input dtype int64 was converted to float64 by StandardScaler.\n",
      "  warnings.warn(msg, DataConversionWarning)\n",
      "D:\\anaconda\\envs\\tensorflow_gpu\\lib\\site-packages\\sklearn\\utils\\validation.py:595: DataConversionWarning: Data with input dtype int64 was converted to float64 by StandardScaler.\n",
      "  warnings.warn(msg, DataConversionWarning)\n"
     ]
    }
   ],
   "source": [
    "\n",
    "from sklearn.preprocessing import StandardScaler\n",
    "sc = StandardScaler()\n",
    "x_data = sc.fit_transform(x)\n",
    "y_data = sc.fit_transform(y)"
   ]
  },
  {
   "cell_type": "code",
   "execution_count": 160,
   "metadata": {},
   "outputs": [
    {
     "data": {
      "text/plain": [
       "array([[ 0.        , -1.81358161,  0.50573214],\n",
       "       [ 0.        , -1.81358161,  0.61811706],\n",
       "       [ 0.        , -1.81358161,  0.73050198],\n",
       "       [ 0.        , -1.81358161,  0.8428869 ],\n",
       "       [ 0.        , -1.81358161,  0.95527182],\n",
       "       [ 0.        , -1.81358161,  1.06765674],\n",
       "       [ 0.        , -1.81358161,  1.18004166],\n",
       "       [ 0.        , -1.81358161,  1.29242658],\n",
       "       [ 0.        , -1.81358161,  1.4048115 ],\n",
       "       [ 0.        , -1.81358161,  1.51719642],\n",
       "       [ 0.        , -1.81358161,  1.62958134],\n",
       "       [ 0.        , -1.02868727, -1.74196626],\n",
       "       [ 0.        , -1.02868727, -1.62958134],\n",
       "       [ 0.        , -1.02868727, -1.51719642],\n",
       "       [ 0.        , -1.02868727, -1.4048115 ],\n",
       "       [ 0.        , -1.02868727, -1.29242658],\n",
       "       [ 0.        , -1.02868727, -1.18004166],\n",
       "       [ 0.        , -1.02868727, -1.06765674],\n",
       "       [ 0.        , -1.02868727, -0.95527182],\n",
       "       [ 0.        , -1.02868727, -0.8428869 ],\n",
       "       [ 0.        , -1.02868727, -0.73050198],\n",
       "       [ 0.        , -1.02868727, -0.61811706],\n",
       "       [ 0.        , -1.02868727, -0.50573214],\n",
       "       [ 0.        , -1.02868727, -0.39334722],\n",
       "       [ 0.        , -1.02868727, -0.2809623 ],\n",
       "       [ 0.        , -1.02868727, -0.16857738],\n",
       "       [ 0.        , -1.02868727, -0.05619246],\n",
       "       [ 0.        , -1.02868727,  0.05619246],\n",
       "       [ 0.        , -1.02868727,  0.16857738],\n",
       "       [ 0.        , -1.02868727,  0.2809623 ],\n",
       "       [ 0.        , -1.02868727,  0.39334722],\n",
       "       [ 0.        , -1.02868727,  0.50573214],\n",
       "       [ 0.        , -1.02868727,  0.61811706],\n",
       "       [ 0.        , -1.02868727,  0.73050198],\n",
       "       [ 0.        , -1.02868727,  0.8428869 ],\n",
       "       [ 0.        , -1.02868727,  0.95527182],\n",
       "       [ 0.        , -1.02868727,  1.06765674],\n",
       "       [ 0.        , -1.02868727,  1.18004166],\n",
       "       [ 0.        , -1.02868727,  1.29242658],\n",
       "       [ 0.        , -1.02868727,  1.4048115 ],\n",
       "       [ 0.        , -0.24379294, -1.74196626],\n",
       "       [ 0.        , -0.24379294, -1.62958134],\n",
       "       [ 0.        , -0.24379294, -1.51719642],\n",
       "       [ 0.        , -0.24379294, -1.4048115 ],\n",
       "       [ 0.        , -0.24379294, -1.29242658],\n",
       "       [ 0.        , -0.24379294, -1.18004166],\n",
       "       [ 0.        , -0.24379294, -1.06765674],\n",
       "       [ 0.        , -0.24379294, -0.95527182],\n",
       "       [ 0.        , -0.24379294, -0.8428869 ],\n",
       "       [ 0.        , -0.24379294, -0.73050198],\n",
       "       [ 0.        , -0.24379294, -0.61811706],\n",
       "       [ 0.        , -0.24379294, -0.50573214],\n",
       "       [ 0.        , -0.24379294, -0.39334722],\n",
       "       [ 0.        , -0.24379294, -0.2809623 ],\n",
       "       [ 0.        , -0.24379294, -0.16857738],\n",
       "       [ 0.        , -0.24379294, -0.05619246],\n",
       "       [ 0.        , -0.24379294,  0.05619246],\n",
       "       [ 0.        , -0.24379294,  0.16857738],\n",
       "       [ 0.        , -0.24379294,  0.2809623 ],\n",
       "       [ 0.        , -0.24379294,  0.39334722],\n",
       "       [ 0.        , -0.24379294,  0.50573214],\n",
       "       [ 0.        , -0.24379294,  0.61811706],\n",
       "       [ 0.        , -0.24379294,  0.73050198],\n",
       "       [ 0.        , -0.24379294,  0.8428869 ],\n",
       "       [ 0.        , -0.24379294,  0.95527182],\n",
       "       [ 0.        , -0.24379294,  1.06765674],\n",
       "       [ 0.        , -0.24379294,  1.18004166],\n",
       "       [ 0.        , -0.24379294,  1.29242658],\n",
       "       [ 0.        , -0.24379294,  1.4048115 ],\n",
       "       [ 0.        , -0.24379294,  1.51719642],\n",
       "       [ 0.        , -0.24379294,  1.62958134],\n",
       "       [ 0.        ,  0.5411014 , -1.74196626],\n",
       "       [ 0.        ,  0.5411014 , -1.62958134],\n",
       "       [ 0.        ,  0.5411014 , -1.51719642],\n",
       "       [ 0.        ,  0.5411014 , -1.4048115 ],\n",
       "       [ 0.        ,  0.5411014 , -1.29242658],\n",
       "       [ 0.        ,  0.5411014 , -1.18004166],\n",
       "       [ 0.        ,  0.5411014 , -1.06765674],\n",
       "       [ 0.        ,  0.5411014 , -0.95527182],\n",
       "       [ 0.        ,  0.5411014 , -0.8428869 ],\n",
       "       [ 0.        ,  0.5411014 , -0.73050198],\n",
       "       [ 0.        ,  0.5411014 , -0.61811706],\n",
       "       [ 0.        ,  0.5411014 , -0.50573214],\n",
       "       [ 0.        ,  0.5411014 , -0.39334722],\n",
       "       [ 0.        ,  0.5411014 , -0.2809623 ],\n",
       "       [ 0.        ,  0.5411014 , -0.16857738],\n",
       "       [ 0.        ,  0.5411014 , -0.05619246],\n",
       "       [ 0.        ,  0.5411014 ,  0.05619246],\n",
       "       [ 0.        ,  0.5411014 ,  0.16857738],\n",
       "       [ 0.        ,  0.5411014 ,  0.2809623 ],\n",
       "       [ 0.        ,  0.5411014 ,  0.39334722],\n",
       "       [ 0.        ,  0.5411014 ,  0.50573214],\n",
       "       [ 0.        ,  0.5411014 ,  0.61811706],\n",
       "       [ 0.        ,  0.5411014 ,  0.73050198],\n",
       "       [ 0.        ,  0.5411014 ,  0.8428869 ],\n",
       "       [ 0.        ,  0.5411014 ,  0.95527182],\n",
       "       [ 0.        ,  0.5411014 ,  1.06765674],\n",
       "       [ 0.        ,  0.5411014 ,  1.18004166],\n",
       "       [ 0.        ,  0.5411014 ,  1.29242658],\n",
       "       [ 0.        ,  0.5411014 ,  1.4048115 ],\n",
       "       [ 0.        ,  0.5411014 ,  1.51719642],\n",
       "       [ 0.        ,  1.32599573, -1.74196626],\n",
       "       [ 0.        ,  1.32599573, -1.62958134],\n",
       "       [ 0.        ,  1.32599573, -1.51719642],\n",
       "       [ 0.        ,  1.32599573, -1.4048115 ],\n",
       "       [ 0.        ,  1.32599573, -1.29242658],\n",
       "       [ 0.        ,  1.32599573, -1.18004166],\n",
       "       [ 0.        ,  1.32599573, -1.06765674],\n",
       "       [ 0.        ,  1.32599573, -0.95527182],\n",
       "       [ 0.        ,  1.32599573, -0.8428869 ],\n",
       "       [ 0.        ,  1.32599573, -0.73050198],\n",
       "       [ 0.        ,  1.32599573, -0.61811706],\n",
       "       [ 0.        ,  1.32599573, -0.50573214],\n",
       "       [ 0.        ,  1.32599573, -0.39334722],\n",
       "       [ 0.        ,  1.32599573, -0.2809623 ],\n",
       "       [ 0.        ,  1.32599573, -0.16857738],\n",
       "       [ 0.        ,  1.32599573, -0.05619246],\n",
       "       [ 0.        ,  1.32599573,  0.05619246],\n",
       "       [ 0.        ,  1.32599573,  0.16857738],\n",
       "       [ 0.        ,  1.32599573,  0.2809623 ],\n",
       "       [ 0.        ,  1.32599573,  0.39334722],\n",
       "       [ 0.        ,  1.32599573,  0.50573214],\n",
       "       [ 0.        ,  1.32599573,  0.61811706],\n",
       "       [ 0.        ,  1.32599573,  0.73050198],\n",
       "       [ 0.        ,  1.32599573,  0.8428869 ],\n",
       "       [ 0.        ,  1.32599573,  0.95527182],\n",
       "       [ 0.        ,  1.32599573,  1.06765674],\n",
       "       [ 0.        ,  1.32599573,  1.18004166],\n",
       "       [ 0.        ,  1.32599573,  1.29242658],\n",
       "       [ 0.        ,  1.32599573,  1.4048115 ],\n",
       "       [ 0.        ,  1.32599573,  1.51719642],\n",
       "       [ 0.        ,  1.32599573,  1.62958134]])"
      ]
     },
     "execution_count": 160,
     "metadata": {},
     "output_type": "execute_result"
    }
   ],
   "source": [
    "x_data"
   ]
  },
  {
   "cell_type": "code",
   "execution_count": 161,
   "metadata": {},
   "outputs": [
    {
     "data": {
      "text/plain": [
       "array([[-0.81691168],\n",
       "       [-0.81691168],\n",
       "       [-0.81691168],\n",
       "       [-0.81691005],\n",
       "       [-0.81690842],\n",
       "       [-0.81690516],\n",
       "       [-0.81690516],\n",
       "       [-0.81690516],\n",
       "       [-0.81690516],\n",
       "       [-0.81690353],\n",
       "       [-0.8169019 ],\n",
       "       [-0.81690027],\n",
       "       [-0.81689538],\n",
       "       [-0.81689538],\n",
       "       [-0.81689538],\n",
       "       [-0.81689375],\n",
       "       [-0.81689375],\n",
       "       [-0.81689375],\n",
       "       [-0.81689375],\n",
       "       [-0.81689375],\n",
       "       [-0.81689212],\n",
       "       [-0.81689212],\n",
       "       [-0.81689048],\n",
       "       [-0.81688885],\n",
       "       [-0.81688885],\n",
       "       [-0.81688885],\n",
       "       [-0.81688885],\n",
       "       [-0.81687255],\n",
       "       [-0.81687255],\n",
       "       [-0.81687255],\n",
       "       [-0.81686929],\n",
       "       [-0.8168644 ],\n",
       "       [-0.8168644 ],\n",
       "       [-0.8168644 ],\n",
       "       [-0.8168432 ],\n",
       "       [-0.81683994],\n",
       "       [-0.81681549],\n",
       "       [-0.81681549],\n",
       "       [-0.81680734],\n",
       "       [-0.81679918],\n",
       "       [-0.81676984],\n",
       "       [-0.81674375],\n",
       "       [-0.81670951],\n",
       "       [-0.81665082],\n",
       "       [-0.81654158],\n",
       "       [-0.81640626],\n",
       "       [-0.8162155 ],\n",
       "       [-0.81602149],\n",
       "       [-0.81569378],\n",
       "       [-0.81525358],\n",
       "       [-0.81485413],\n",
       "       [-0.81419382],\n",
       "       [-0.81328733],\n",
       "       [-0.81218845],\n",
       "       [-0.81104392],\n",
       "       [-0.80956516],\n",
       "       [-0.80728424],\n",
       "       [-0.80329958],\n",
       "       [-0.79670792],\n",
       "       [-0.78755004],\n",
       "       [-0.77692643],\n",
       "       [-0.76299641],\n",
       "       [-0.7459931 ],\n",
       "       [-0.72859361],\n",
       "       [-0.70477528],\n",
       "       [-0.67728858],\n",
       "       [-0.64897528],\n",
       "       [-0.6148366 ],\n",
       "       [-0.584769  ],\n",
       "       [-0.54973198],\n",
       "       [-0.50987064],\n",
       "       [-0.46562519],\n",
       "       [-0.41813365],\n",
       "       [-0.36535801],\n",
       "       [-0.30855532],\n",
       "       [-0.26650275],\n",
       "       [-0.21185869],\n",
       "       [-0.16581818],\n",
       "       [-0.11399959],\n",
       "       [-0.05738276],\n",
       "       [-0.00281533],\n",
       "       [ 0.04891848],\n",
       "       [ 0.09314437],\n",
       "       [ 0.13520999],\n",
       "       [ 0.17863372],\n",
       "       [ 0.22728447],\n",
       "       [ 0.27923676],\n",
       "       [ 0.33047168],\n",
       "       [ 0.37673555],\n",
       "       [ 0.41807238],\n",
       "       [ 0.46254119],\n",
       "       [ 0.50411118],\n",
       "       [ 0.54953376],\n",
       "       [ 0.60478922],\n",
       "       [ 0.66587982],\n",
       "       [ 0.72177276],\n",
       "       [ 0.7651378 ],\n",
       "       [ 0.80321875],\n",
       "       [ 0.8437192 ],\n",
       "       [ 0.88694076],\n",
       "       [ 0.93654529],\n",
       "       [ 0.99189368],\n",
       "       [ 1.04003412],\n",
       "       [ 1.08243886],\n",
       "       [ 1.11817043],\n",
       "       [ 1.15682854],\n",
       "       [ 1.19678118],\n",
       "       [ 1.24312656],\n",
       "       [ 1.28833883],\n",
       "       [ 1.32882623],\n",
       "       [ 1.36169321],\n",
       "       [ 1.39067986],\n",
       "       [ 1.42702609],\n",
       "       [ 1.46156421],\n",
       "       [ 1.50560749],\n",
       "       [ 1.54818342],\n",
       "       [ 1.58674208],\n",
       "       [ 1.61769498],\n",
       "       [ 1.65321133],\n",
       "       [ 1.68761087],\n",
       "       [ 1.72475109],\n",
       "       [ 1.76720148],\n",
       "       [ 1.80570634],\n",
       "       [ 1.84226125],\n",
       "       [ 1.87478095],\n",
       "       [ 1.90599797],\n",
       "       [ 1.93679436],\n",
       "       [ 1.96736249],\n",
       "       [ 2.00396957],\n",
       "       [ 2.04398416],\n",
       "       [ 2.08212544],\n",
       "       [ 2.11576848]])"
      ]
     },
     "execution_count": 161,
     "metadata": {},
     "output_type": "execute_result"
    }
   ],
   "source": [
    "y_data"
   ]
  },
  {
   "cell_type": "code",
   "execution_count": 115,
   "metadata": {},
   "outputs": [],
   "source": [
    "# inverse transform"
   ]
  },
  {
   "cell_type": "code",
   "execution_count": 162,
   "metadata": {},
   "outputs": [],
   "source": [
    "class RNN(nn.Module):\n",
    "    def __init__(self, input_size, output_size, hidden_dim, n_layers):\n",
    "        super(RNN, self).__init__()\n",
    "        \n",
    "        self.hidden_dim=hidden_dim\n",
    "\n",
    "        # define an RNN with specified parameters\n",
    "        # batch_first means that the first dim of the input and output will be the batch_size\n",
    "        self.rnn = nn.RNN(input_size, hidden_dim, n_layers, batch_first=True)\n",
    "        \n",
    "        # last, fully-connected layer\n",
    "        self.fc = nn.Linear(hidden_dim, output_size)\n",
    "\n",
    "    def forward(self, x, hidden):\n",
    "        # x (batch_size, seq_length, input_size)\n",
    "        # hidden (n_layers, batch_size, hidden_dim)\n",
    "        # r_out (batch_size, time_step, hidden_size)\n",
    "        batch_size = x.size(0)\n",
    "        \n",
    "        # get RNN outputs\n",
    "        r_out, hidden = self.rnn(x, hidden)\n",
    "        # shape output to be (batch_size*seq_length, hidden_dim)\n",
    "        r_out = r_out.view(-1, self.hidden_dim)  \n",
    "        \n",
    "        # get final output \n",
    "        output = self.fc(r_out)\n",
    "        \n",
    "        return output, hidden\n"
   ]
  },
  {
   "cell_type": "code",
   "execution_count": 163,
   "metadata": {},
   "outputs": [
    {
     "name": "stdout",
     "output_type": "stream",
     "text": [
      "Input size:  torch.Size([1, 132, 3])\n",
      "Output size:  torch.Size([132, 1])\n",
      "Hidden state size:  torch.Size([2, 1, 10])\n"
     ]
    }
   ],
   "source": [
    "test_rnn = RNN(input_size=3, output_size=1, hidden_dim=10, n_layers=2)\n",
    "\n",
    "# generate evenly spaced, test data pts\n",
    "\n",
    "test_input = torch.Tensor(x_data).unsqueeze(0) # give it a batch_size of 1 as first dimension\n",
    "print('Input size: ', test_input.size())\n",
    "# test out rnn sizes\n",
    "test_out, test_h = test_rnn(test_input, None)\n",
    "test_out = torch.Tensor(y_data)\n",
    "print('Output size: ', test_out.size())\n",
    "print('Hidden state size: ', test_h.size())"
   ]
  },
  {
   "cell_type": "code",
   "execution_count": 164,
   "metadata": {},
   "outputs": [
    {
     "data": {
      "text/plain": [
       "tensor([[[-0.8043, -0.2698, -0.4063, -0.2058, -0.3148, -0.0853, -0.5667,\n",
       "          -0.1655,  0.4985,  0.0386]],\n",
       "\n",
       "        [[-0.2118,  0.8230,  0.0354,  0.6240,  0.2512, -0.3659,  0.1456,\n",
       "           0.5587,  0.0596, -0.5724]]], grad_fn=<StackBackward>)"
      ]
     },
     "execution_count": 164,
     "metadata": {},
     "output_type": "execute_result"
    }
   ],
   "source": [
    "test_h"
   ]
  },
  {
   "cell_type": "code",
   "execution_count": 165,
   "metadata": {},
   "outputs": [
    {
     "name": "stdout",
     "output_type": "stream",
     "text": [
      "RNN(\n",
      "  (rnn): RNN(3, 32, batch_first=True)\n",
      "  (fc): Linear(in_features=32, out_features=1, bias=True)\n",
      ")\n"
     ]
    }
   ],
   "source": [
    "# decide on hyperparameters\n",
    "input_size=3\n",
    "output_size=1\n",
    "hidden_dim=32\n",
    "n_layers=1\n",
    "\n",
    "# instantiate an RNN\n",
    "rnn = RNN(input_size, output_size, hidden_dim, n_layers)\n",
    "print(rnn)\n",
    "\n",
    "# MSE loss and Adam optimizer with a learning rate of 0.01\n",
    "criterion = nn.MSELoss()\n",
    "optimizer = torch.optim.Adam(rnn.parameters(), lr=0.01) "
   ]
  },
  {
   "cell_type": "code",
   "execution_count": 168,
   "metadata": {},
   "outputs": [],
   "source": [
    "# train the RNN\n",
    "def train(rnn, n_steps, print_every):\n",
    "    \n",
    "    # initialize the hidden state\n",
    "    hidden = None      \n",
    "    \n",
    "    for batch_i, step in enumerate(range(n_steps)):\n",
    "        # defining the training data \n",
    "\n",
    "        x = x_data[:-1]\n",
    "        y = y_data[1:]\n",
    "        \n",
    "        # convert data into Tensors\n",
    "        x_tensor = torch.Tensor(x).unsqueeze(0) # unsqueeze gives a 1, batch_size dimension\n",
    "        y_tensor = torch.Tensor(y)\n",
    "\n",
    "        # outputs from the rnn\n",
    "        prediction, hidden = rnn(x_tensor, hidden)\n",
    "\n",
    "        ## Representing Memory ##\n",
    "        # make a new variable for hidden and detach the hidden state from its history\n",
    "        # this way, we don't backpropagate through the entire history\n",
    "        hidden = hidden.data\n",
    "\n",
    "        # calculate the loss\n",
    "        loss = criterion(prediction, y_tensor)\n",
    "        # zero gradients\n",
    "        optimizer.zero_grad()\n",
    "        # perform backprop and update weights\n",
    "        loss.backward()\n",
    "        optimizer.step()\n",
    "\n",
    "        # display loss and predictions\n",
    "        if batch_i%print_every == 0:        \n",
    "            print('Loss: ', loss.item())\n",
    "            plt.plot(prediction.data.numpy().flatten(), 'b.') # predictions\n",
    "            plt.show()\n",
    "    \n",
    "    return rnn\n"
   ]
  },
  {
   "cell_type": "code",
   "execution_count": 169,
   "metadata": {},
   "outputs": [
    {
     "name": "stdout",
     "output_type": "stream",
     "text": [
      "Loss:  0.9061269164085388\n"
     ]
    },
    {
     "data": {
      "image/png": "[encoded data removed]",
      "text/plain": [
       "<Figure size 432x288 with 1 Axes>"
      ]
     },
     "metadata": {
      "needs_background": "light"
     },
     "output_type": "display_data"
    },
    {
     "name": "stdout",
     "output_type": "stream",
     "text": [
      "Loss:  0.07121489197015762\n"
     ]
    },
    {
     "data": {
      "image/png": "[encoded data removed]",
      "text/plain": [
       "<Figure size 432x288 with 1 Axes>"
      ]
     },
     "metadata": {
      "needs_background": "light"
     },
     "output_type": "display_data"
    },
    {
     "name": "stdout",
     "output_type": "stream",
     "text": [
      "Loss:  0.047242287546396255\n"
     ]
    },
    {
     "data": {
      "image/png": "[encoded data removed]",
      "text/plain": [
       "<Figure size 432x288 with 1 Axes>"
      ]
     },
     "metadata": {
      "needs_background": "light"
     },
     "output_type": "display_data"
    },
    {
     "name": "stdout",
     "output_type": "stream",
     "text": [
      "Loss:  0.029037190601229668\n"
     ]
    },
    {
     "data": {
      "image/png": "[encoded data removed]",
      "text/plain": [
       "<Figure size 432x288 with 1 Axes>"
      ]
     },
     "metadata": {
      "needs_background": "light"
     },
     "output_type": "display_data"
    },
    {
     "name": "stdout",
     "output_type": "stream",
     "text": [
      "Loss:  0.019018612802028656\n"
     ]
    },
    {
     "data": {
      "image/png": "[encoded data removed]",
      "text/plain": [
       "<Figure size 432x288 with 1 Axes>"
      ]
     },
     "metadata": {
      "needs_background": "light"
     },
     "output_type": "display_data"
    }
   ],
   "source": [
    "# train the rnn and monitor results\n",
    "n_steps = 75\n",
    "print_every = 15\n",
    "\n",
    "trained_rnn = train(rnn, n_steps, print_every)"
   ]
  },
  {
   "cell_type": "code",
   "execution_count": null,
   "metadata": {},
   "outputs": [],
   "source": []
  },
  {
   "cell_type": "code",
   "execution_count": null,
   "metadata": {},
   "outputs": [],
   "source": []
  }
 ],
 "metadata": {
  "kernelspec": {
   "display_name": "Python 3",
   "language": "python",
   "name": "python3"
  },
  "language_info": {
   "codemirror_mode": {
    "name": "ipython",
    "version": 3
   },
   "file_extension": ".py",
   "mimetype": "text/x-python",
   "name": "python",
   "nbconvert_exporter": "python",
   "pygments_lexer": "ipython3",
   "version": "3.7.3"
  }
 },
 "nbformat": 4,
 "nbformat_minor": 2
}
