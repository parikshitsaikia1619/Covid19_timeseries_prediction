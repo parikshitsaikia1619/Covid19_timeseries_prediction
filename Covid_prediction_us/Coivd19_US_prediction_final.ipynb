{
 "cells": [
  {
   "cell_type": "code",
   "execution_count": 121,
   "metadata": {},
   "outputs": [],
   "source": [
    "import numpy as np\n",
    "import pandas as pd\n",
    "import matplotlib.pyplot as plt\n",
    "from datetime import datetime as dt\n",
    "import torch\n",
    "from torch import nn"
   ]
  },
  {
   "cell_type": "code",
   "execution_count": 122,
   "metadata": {},
   "outputs": [
    {
     "data": {
      "text/html": [
       "<div>\n",
       "<style scoped>\n",
       "    .dataframe tbody tr th:only-of-type {\n",
       "        vertical-align: middle;\n",
       "    }\n",
       "\n",
       "    .dataframe tbody tr th {\n",
       "        vertical-align: top;\n",
       "    }\n",
       "\n",
       "    .dataframe thead th {\n",
       "        text-align: right;\n",
       "    }\n",
       "</style>\n",
       "<table border=\"1\" class=\"dataframe\">\n",
       "  <thead>\n",
       "    <tr style=\"text-align: right;\">\n",
       "      <th></th>\n",
       "      <th>date</th>\n",
       "      <th>cases</th>\n",
       "    </tr>\n",
       "  </thead>\n",
       "  <tbody>\n",
       "    <tr>\n",
       "      <th>0</th>\n",
       "      <td>2020-01-21</td>\n",
       "      <td>1</td>\n",
       "    </tr>\n",
       "    <tr>\n",
       "      <th>1</th>\n",
       "      <td>2020-01-22</td>\n",
       "      <td>1</td>\n",
       "    </tr>\n",
       "    <tr>\n",
       "      <th>2</th>\n",
       "      <td>2020-01-23</td>\n",
       "      <td>1</td>\n",
       "    </tr>\n",
       "    <tr>\n",
       "      <th>3</th>\n",
       "      <td>2020-01-24</td>\n",
       "      <td>2</td>\n",
       "    </tr>\n",
       "    <tr>\n",
       "      <th>4</th>\n",
       "      <td>2020-01-25</td>\n",
       "      <td>3</td>\n",
       "    </tr>\n",
       "  </tbody>\n",
       "</table>\n",
       "</div>"
      ],
      "text/plain": [
       "         date  cases\n",
       "0  2020-01-21      1\n",
       "1  2020-01-22      1\n",
       "2  2020-01-23      1\n",
       "3  2020-01-24      2\n",
       "4  2020-01-25      3"
      ]
     },
     "execution_count": 122,
     "metadata": {},
     "output_type": "execute_result"
    }
   ],
   "source": [
    "data = pd.read_csv('us-counties.csv')\n",
    "data = data.groupby(['date'],as_index = False).agg({'cases':sum})\n",
    "data.head()"
   ]
  },
  {
   "cell_type": "code",
   "execution_count": 123,
   "metadata": {},
   "outputs": [
    {
     "data": {
      "image/png": "[encoded data removed]",
      "text/plain": [
       "<Figure size 432x288 with 1 Axes>"
      ]
     },
     "metadata": {
      "needs_background": "light"
     },
     "output_type": "display_data"
    }
   ],
   "source": [
    "x = data['date']\n",
    "y = data['cases']\n",
    "x = x.to_numpy()\n",
    "y = y.to_numpy()\n",
    "plt.scatter(x,y)\n",
    "plt.show()"
   ]
  },
  {
   "cell_type": "code",
   "execution_count": 124,
   "metadata": {},
   "outputs": [],
   "source": [
    "data['date'] = pd.to_datetime(data['date'])\n",
    "data['day'] = data['date'].dt.day\n",
    "data['month'] = data['date'].dt.month\n",
    "data['year'] = data['date'].dt.year\n"
   ]
  },
  {
   "cell_type": "code",
   "execution_count": 125,
   "metadata": {},
   "outputs": [],
   "source": [
    "data = data[['year','month','day','cases']]\n"
   ]
  },
  {
   "cell_type": "code",
   "execution_count": 126,
   "metadata": {},
   "outputs": [
    {
     "data": {
      "text/html": [
       "<div>\n",
       "<style scoped>\n",
       "    .dataframe tbody tr th:only-of-type {\n",
       "        vertical-align: middle;\n",
       "    }\n",
       "\n",
       "    .dataframe tbody tr th {\n",
       "        vertical-align: top;\n",
       "    }\n",
       "\n",
       "    .dataframe thead th {\n",
       "        text-align: right;\n",
       "    }\n",
       "</style>\n",
       "<table border=\"1\" class=\"dataframe\">\n",
       "  <thead>\n",
       "    <tr style=\"text-align: right;\">\n",
       "      <th></th>\n",
       "      <th>year</th>\n",
       "      <th>month</th>\n",
       "      <th>day</th>\n",
       "      <th>cases</th>\n",
       "    </tr>\n",
       "  </thead>\n",
       "  <tbody>\n",
       "    <tr>\n",
       "      <th>0</th>\n",
       "      <td>2020</td>\n",
       "      <td>1</td>\n",
       "      <td>21</td>\n",
       "      <td>1</td>\n",
       "    </tr>\n",
       "    <tr>\n",
       "      <th>1</th>\n",
       "      <td>2020</td>\n",
       "      <td>1</td>\n",
       "      <td>22</td>\n",
       "      <td>1</td>\n",
       "    </tr>\n",
       "    <tr>\n",
       "      <th>2</th>\n",
       "      <td>2020</td>\n",
       "      <td>1</td>\n",
       "      <td>23</td>\n",
       "      <td>1</td>\n",
       "    </tr>\n",
       "    <tr>\n",
       "      <th>3</th>\n",
       "      <td>2020</td>\n",
       "      <td>1</td>\n",
       "      <td>24</td>\n",
       "      <td>2</td>\n",
       "    </tr>\n",
       "    <tr>\n",
       "      <th>4</th>\n",
       "      <td>2020</td>\n",
       "      <td>1</td>\n",
       "      <td>25</td>\n",
       "      <td>3</td>\n",
       "    </tr>\n",
       "  </tbody>\n",
       "</table>\n",
       "</div>"
      ],
      "text/plain": [
       "   year  month  day  cases\n",
       "0  2020      1   21      1\n",
       "1  2020      1   22      1\n",
       "2  2020      1   23      1\n",
       "3  2020      1   24      2\n",
       "4  2020      1   25      3"
      ]
     },
     "execution_count": 126,
     "metadata": {},
     "output_type": "execute_result"
    }
   ],
   "source": [
    "data.head()"
   ]
  },
  {
   "cell_type": "code",
   "execution_count": 127,
   "metadata": {},
   "outputs": [],
   "source": [
    "x = data[['year','month','day']]\n",
    "y = data[['cases']]\n",
    "x = x.to_numpy()\n",
    "y = y.to_numpy()"
   ]
  },
  {
   "cell_type": "code",
   "execution_count": 128,
   "metadata": {},
   "outputs": [
    {
     "name": "stdout",
     "output_type": "stream",
     "text": [
      "(132, 3) (132, 1)\n"
     ]
    }
   ],
   "source": [
    "print(x.shape,y.shape)"
   ]
  },
  {
   "cell_type": "code",
   "execution_count": 129,
   "metadata": {},
   "outputs": [
    {
     "data": {
      "text/plain": [
       "array([[2020,    1,   21],\n",
       "       [2020,    1,   22],\n",
       "       [2020,    1,   23],\n",
       "       [2020,    1,   24],\n",
       "       [2020,    1,   25],\n",
       "       [2020,    1,   26],\n",
       "       [2020,    1,   27],\n",
       "       [2020,    1,   28],\n",
       "       [2020,    1,   29],\n",
       "       [2020,    1,   30],\n",
       "       [2020,    1,   31],\n",
       "       [2020,    2,    1],\n",
       "       [2020,    2,    2],\n",
       "       [2020,    2,    3],\n",
       "       [2020,    2,    4],\n",
       "       [2020,    2,    5],\n",
       "       [2020,    2,    6],\n",
       "       [2020,    2,    7],\n",
       "       [2020,    2,    8],\n",
       "       [2020,    2,    9],\n",
       "       [2020,    2,   10],\n",
       "       [2020,    2,   11],\n",
       "       [2020,    2,   12],\n",
       "       [2020,    2,   13],\n",
       "       [2020,    2,   14],\n",
       "       [2020,    2,   15],\n",
       "       [2020,    2,   16],\n",
       "       [2020,    2,   17],\n",
       "       [2020,    2,   18],\n",
       "       [2020,    2,   19],\n",
       "       [2020,    2,   20],\n",
       "       [2020,    2,   21],\n",
       "       [2020,    2,   22],\n",
       "       [2020,    2,   23],\n",
       "       [2020,    2,   24],\n",
       "       [2020,    2,   25],\n",
       "       [2020,    2,   26],\n",
       "       [2020,    2,   27],\n",
       "       [2020,    2,   28],\n",
       "       [2020,    2,   29],\n",
       "       [2020,    3,    1],\n",
       "       [2020,    3,    2],\n",
       "       [2020,    3,    3],\n",
       "       [2020,    3,    4],\n",
       "       [2020,    3,    5],\n",
       "       [2020,    3,    6],\n",
       "       [2020,    3,    7],\n",
       "       [2020,    3,    8],\n",
       "       [2020,    3,    9],\n",
       "       [2020,    3,   10],\n",
       "       [2020,    3,   11],\n",
       "       [2020,    3,   12],\n",
       "       [2020,    3,   13],\n",
       "       [2020,    3,   14],\n",
       "       [2020,    3,   15],\n",
       "       [2020,    3,   16],\n",
       "       [2020,    3,   17],\n",
       "       [2020,    3,   18],\n",
       "       [2020,    3,   19],\n",
       "       [2020,    3,   20],\n",
       "       [2020,    3,   21],\n",
       "       [2020,    3,   22],\n",
       "       [2020,    3,   23],\n",
       "       [2020,    3,   24],\n",
       "       [2020,    3,   25],\n",
       "       [2020,    3,   26],\n",
       "       [2020,    3,   27],\n",
       "       [2020,    3,   28],\n",
       "       [2020,    3,   29],\n",
       "       [2020,    3,   30],\n",
       "       [2020,    3,   31],\n",
       "       [2020,    4,    1],\n",
       "       [2020,    4,    2],\n",
       "       [2020,    4,    3],\n",
       "       [2020,    4,    4],\n",
       "       [2020,    4,    5],\n",
       "       [2020,    4,    6],\n",
       "       [2020,    4,    7],\n",
       "       [2020,    4,    8],\n",
       "       [2020,    4,    9],\n",
       "       [2020,    4,   10],\n",
       "       [2020,    4,   11],\n",
       "       [2020,    4,   12],\n",
       "       [2020,    4,   13],\n",
       "       [2020,    4,   14],\n",
       "       [2020,    4,   15],\n",
       "       [2020,    4,   16],\n",
       "       [2020,    4,   17],\n",
       "       [2020,    4,   18],\n",
       "       [2020,    4,   19],\n",
       "       [2020,    4,   20],\n",
       "       [2020,    4,   21],\n",
       "       [2020,    4,   22],\n",
       "       [2020,    4,   23],\n",
       "       [2020,    4,   24],\n",
       "       [2020,    4,   25],\n",
       "       [2020,    4,   26],\n",
       "       [2020,    4,   27],\n",
       "       [2020,    4,   28],\n",
       "       [2020,    4,   29],\n",
       "       [2020,    4,   30],\n",
       "       [2020,    5,    1],\n",
       "       [2020,    5,    2],\n",
       "       [2020,    5,    3],\n",
       "       [2020,    5,    4],\n",
       "       [2020,    5,    5],\n",
       "       [2020,    5,    6],\n",
       "       [2020,    5,    7],\n",
       "       [2020,    5,    8],\n",
       "       [2020,    5,    9],\n",
       "       [2020,    5,   10],\n",
       "       [2020,    5,   11],\n",
       "       [2020,    5,   12],\n",
       "       [2020,    5,   13],\n",
       "       [2020,    5,   14],\n",
       "       [2020,    5,   15],\n",
       "       [2020,    5,   16],\n",
       "       [2020,    5,   17],\n",
       "       [2020,    5,   18],\n",
       "       [2020,    5,   19],\n",
       "       [2020,    5,   20],\n",
       "       [2020,    5,   21],\n",
       "       [2020,    5,   22],\n",
       "       [2020,    5,   23],\n",
       "       [2020,    5,   24],\n",
       "       [2020,    5,   25],\n",
       "       [2020,    5,   26],\n",
       "       [2020,    5,   27],\n",
       "       [2020,    5,   28],\n",
       "       [2020,    5,   29],\n",
       "       [2020,    5,   30],\n",
       "       [2020,    5,   31]], dtype=int64)"
      ]
     },
     "execution_count": 129,
     "metadata": {},
     "output_type": "execute_result"
    }
   ],
   "source": [
    "x"
   ]
  },
  {
   "cell_type": "code",
   "execution_count": 130,
   "metadata": {},
   "outputs": [
    {
     "name": "stderr",
     "output_type": "stream",
     "text": [
      "D:\\anaconda\\envs\\tensorflow_gpu\\lib\\site-packages\\sklearn\\utils\\validation.py:595: DataConversionWarning: Data with input dtype int64 was converted to float64 by StandardScaler.\n",
      "  warnings.warn(msg, DataConversionWarning)\n",
      "D:\\anaconda\\envs\\tensorflow_gpu\\lib\\site-packages\\sklearn\\utils\\validation.py:595: DataConversionWarning: Data with input dtype int64 was converted to float64 by StandardScaler.\n",
      "  warnings.warn(msg, DataConversionWarning)\n",
      "D:\\anaconda\\envs\\tensorflow_gpu\\lib\\site-packages\\sklearn\\utils\\validation.py:595: DataConversionWarning: Data with input dtype int64 was converted to float64 by StandardScaler.\n",
      "  warnings.warn(msg, DataConversionWarning)\n",
      "D:\\anaconda\\envs\\tensorflow_gpu\\lib\\site-packages\\sklearn\\utils\\validation.py:595: DataConversionWarning: Data with input dtype int64 was converted to float64 by StandardScaler.\n",
      "  warnings.warn(msg, DataConversionWarning)\n"
     ]
    }
   ],
   "source": [
    "from sklearn.preprocessing import StandardScaler\n",
    "sc_x = StandardScaler()\n",
    "x_data = sc_x.fit_transform(x)\n",
    "sc_y = StandardScaler()\n",
    "y_data = sc_y.fit_transform(y)"
   ]
  },
  {
   "cell_type": "code",
   "execution_count": 136,
   "metadata": {},
   "outputs": [
    {
     "data": {
      "text/plain": [
       "array([[ 0.        , -1.81358161,  0.50573214],\n",
       "       [ 0.        , -1.81358161,  0.61811706],\n",
       "       [ 0.        , -1.81358161,  0.73050198],\n",
       "       [ 0.        , -1.81358161,  0.8428869 ],\n",
       "       [ 0.        , -1.81358161,  0.95527182],\n",
       "       [ 0.        , -1.81358161,  1.06765674],\n",
       "       [ 0.        , -1.81358161,  1.18004166],\n",
       "       [ 0.        , -1.81358161,  1.29242658],\n",
       "       [ 0.        , -1.81358161,  1.4048115 ],\n",
       "       [ 0.        , -1.81358161,  1.51719642],\n",
       "       [ 0.        , -1.81358161,  1.62958134],\n",
       "       [ 0.        , -1.02868727, -1.74196626],\n",
       "       [ 0.        , -1.02868727, -1.62958134],\n",
       "       [ 0.        , -1.02868727, -1.51719642],\n",
       "       [ 0.        , -1.02868727, -1.4048115 ],\n",
       "       [ 0.        , -1.02868727, -1.29242658],\n",
       "       [ 0.        , -1.02868727, -1.18004166],\n",
       "       [ 0.        , -1.02868727, -1.06765674],\n",
       "       [ 0.        , -1.02868727, -0.95527182],\n",
       "       [ 0.        , -1.02868727, -0.8428869 ],\n",
       "       [ 0.        , -1.02868727, -0.73050198],\n",
       "       [ 0.        , -1.02868727, -0.61811706],\n",
       "       [ 0.        , -1.02868727, -0.50573214],\n",
       "       [ 0.        , -1.02868727, -0.39334722],\n",
       "       [ 0.        , -1.02868727, -0.2809623 ],\n",
       "       [ 0.        , -1.02868727, -0.16857738],\n",
       "       [ 0.        , -1.02868727, -0.05619246],\n",
       "       [ 0.        , -1.02868727,  0.05619246],\n",
       "       [ 0.        , -1.02868727,  0.16857738],\n",
       "       [ 0.        , -1.02868727,  0.2809623 ],\n",
       "       [ 0.        , -1.02868727,  0.39334722],\n",
       "       [ 0.        , -1.02868727,  0.50573214],\n",
       "       [ 0.        , -1.02868727,  0.61811706],\n",
       "       [ 0.        , -1.02868727,  0.73050198],\n",
       "       [ 0.        , -1.02868727,  0.8428869 ],\n",
       "       [ 0.        , -1.02868727,  0.95527182],\n",
       "       [ 0.        , -1.02868727,  1.06765674],\n",
       "       [ 0.        , -1.02868727,  1.18004166],\n",
       "       [ 0.        , -1.02868727,  1.29242658],\n",
       "       [ 0.        , -1.02868727,  1.4048115 ],\n",
       "       [ 0.        , -0.24379294, -1.74196626],\n",
       "       [ 0.        , -0.24379294, -1.62958134],\n",
       "       [ 0.        , -0.24379294, -1.51719642],\n",
       "       [ 0.        , -0.24379294, -1.4048115 ],\n",
       "       [ 0.        , -0.24379294, -1.29242658],\n",
       "       [ 0.        , -0.24379294, -1.18004166],\n",
       "       [ 0.        , -0.24379294, -1.06765674],\n",
       "       [ 0.        , -0.24379294, -0.95527182],\n",
       "       [ 0.        , -0.24379294, -0.8428869 ],\n",
       "       [ 0.        , -0.24379294, -0.73050198],\n",
       "       [ 0.        , -0.24379294, -0.61811706],\n",
       "       [ 0.        , -0.24379294, -0.50573214],\n",
       "       [ 0.        , -0.24379294, -0.39334722],\n",
       "       [ 0.        , -0.24379294, -0.2809623 ],\n",
       "       [ 0.        , -0.24379294, -0.16857738],\n",
       "       [ 0.        , -0.24379294, -0.05619246],\n",
       "       [ 0.        , -0.24379294,  0.05619246],\n",
       "       [ 0.        , -0.24379294,  0.16857738],\n",
       "       [ 0.        , -0.24379294,  0.2809623 ],\n",
       "       [ 0.        , -0.24379294,  0.39334722],\n",
       "       [ 0.        , -0.24379294,  0.50573214],\n",
       "       [ 0.        , -0.24379294,  0.61811706],\n",
       "       [ 0.        , -0.24379294,  0.73050198],\n",
       "       [ 0.        , -0.24379294,  0.8428869 ],\n",
       "       [ 0.        , -0.24379294,  0.95527182],\n",
       "       [ 0.        , -0.24379294,  1.06765674],\n",
       "       [ 0.        , -0.24379294,  1.18004166],\n",
       "       [ 0.        , -0.24379294,  1.29242658],\n",
       "       [ 0.        , -0.24379294,  1.4048115 ],\n",
       "       [ 0.        , -0.24379294,  1.51719642],\n",
       "       [ 0.        , -0.24379294,  1.62958134],\n",
       "       [ 0.        ,  0.5411014 , -1.74196626],\n",
       "       [ 0.        ,  0.5411014 , -1.62958134],\n",
       "       [ 0.        ,  0.5411014 , -1.51719642],\n",
       "       [ 0.        ,  0.5411014 , -1.4048115 ],\n",
       "       [ 0.        ,  0.5411014 , -1.29242658],\n",
       "       [ 0.        ,  0.5411014 , -1.18004166],\n",
       "       [ 0.        ,  0.5411014 , -1.06765674],\n",
       "       [ 0.        ,  0.5411014 , -0.95527182],\n",
       "       [ 0.        ,  0.5411014 , -0.8428869 ],\n",
       "       [ 0.        ,  0.5411014 , -0.73050198],\n",
       "       [ 0.        ,  0.5411014 , -0.61811706],\n",
       "       [ 0.        ,  0.5411014 , -0.50573214],\n",
       "       [ 0.        ,  0.5411014 , -0.39334722],\n",
       "       [ 0.        ,  0.5411014 , -0.2809623 ],\n",
       "       [ 0.        ,  0.5411014 , -0.16857738],\n",
       "       [ 0.        ,  0.5411014 , -0.05619246],\n",
       "       [ 0.        ,  0.5411014 ,  0.05619246],\n",
       "       [ 0.        ,  0.5411014 ,  0.16857738],\n",
       "       [ 0.        ,  0.5411014 ,  0.2809623 ],\n",
       "       [ 0.        ,  0.5411014 ,  0.39334722],\n",
       "       [ 0.        ,  0.5411014 ,  0.50573214],\n",
       "       [ 0.        ,  0.5411014 ,  0.61811706],\n",
       "       [ 0.        ,  0.5411014 ,  0.73050198],\n",
       "       [ 0.        ,  0.5411014 ,  0.8428869 ],\n",
       "       [ 0.        ,  0.5411014 ,  0.95527182],\n",
       "       [ 0.        ,  0.5411014 ,  1.06765674],\n",
       "       [ 0.        ,  0.5411014 ,  1.18004166],\n",
       "       [ 0.        ,  0.5411014 ,  1.29242658],\n",
       "       [ 0.        ,  0.5411014 ,  1.4048115 ],\n",
       "       [ 0.        ,  0.5411014 ,  1.51719642],\n",
       "       [ 0.        ,  1.32599573, -1.74196626],\n",
       "       [ 0.        ,  1.32599573, -1.62958134],\n",
       "       [ 0.        ,  1.32599573, -1.51719642],\n",
       "       [ 0.        ,  1.32599573, -1.4048115 ],\n",
       "       [ 0.        ,  1.32599573, -1.29242658],\n",
       "       [ 0.        ,  1.32599573, -1.18004166],\n",
       "       [ 0.        ,  1.32599573, -1.06765674],\n",
       "       [ 0.        ,  1.32599573, -0.95527182],\n",
       "       [ 0.        ,  1.32599573, -0.8428869 ],\n",
       "       [ 0.        ,  1.32599573, -0.73050198],\n",
       "       [ 0.        ,  1.32599573, -0.61811706],\n",
       "       [ 0.        ,  1.32599573, -0.50573214],\n",
       "       [ 0.        ,  1.32599573, -0.39334722],\n",
       "       [ 0.        ,  1.32599573, -0.2809623 ],\n",
       "       [ 0.        ,  1.32599573, -0.16857738],\n",
       "       [ 0.        ,  1.32599573, -0.05619246],\n",
       "       [ 0.        ,  1.32599573,  0.05619246],\n",
       "       [ 0.        ,  1.32599573,  0.16857738],\n",
       "       [ 0.        ,  1.32599573,  0.2809623 ],\n",
       "       [ 0.        ,  1.32599573,  0.39334722],\n",
       "       [ 0.        ,  1.32599573,  0.50573214],\n",
       "       [ 0.        ,  1.32599573,  0.61811706],\n",
       "       [ 0.        ,  1.32599573,  0.73050198],\n",
       "       [ 0.        ,  1.32599573,  0.8428869 ],\n",
       "       [ 0.        ,  1.32599573,  0.95527182],\n",
       "       [ 0.        ,  1.32599573,  1.06765674],\n",
       "       [ 0.        ,  1.32599573,  1.18004166],\n",
       "       [ 0.        ,  1.32599573,  1.29242658],\n",
       "       [ 0.        ,  1.32599573,  1.4048115 ],\n",
       "       [ 0.        ,  1.32599573,  1.51719642],\n",
       "       [ 0.        ,  1.32599573,  1.62958134]])"
      ]
     },
     "execution_count": 136,
     "metadata": {},
     "output_type": "execute_result"
    }
   ],
   "source": [
    "# AFTER SCALING THE DATA\n",
    "x_data"
   ]
  },
  {
   "cell_type": "code",
   "execution_count": 137,
   "metadata": {},
   "outputs": [
    {
     "data": {
      "text/plain": [
       "array([[-0.81691168],\n",
       "       [-0.81691168],\n",
       "       [-0.81691168],\n",
       "       [-0.81691005],\n",
       "       [-0.81690842],\n",
       "       [-0.81690516],\n",
       "       [-0.81690516],\n",
       "       [-0.81690516],\n",
       "       [-0.81690516],\n",
       "       [-0.81690353],\n",
       "       [-0.8169019 ],\n",
       "       [-0.81690027],\n",
       "       [-0.81689538],\n",
       "       [-0.81689538],\n",
       "       [-0.81689538],\n",
       "       [-0.81689375],\n",
       "       [-0.81689375],\n",
       "       [-0.81689375],\n",
       "       [-0.81689375],\n",
       "       [-0.81689375],\n",
       "       [-0.81689212],\n",
       "       [-0.81689212],\n",
       "       [-0.81689048],\n",
       "       [-0.81688885],\n",
       "       [-0.81688885],\n",
       "       [-0.81688885],\n",
       "       [-0.81688885],\n",
       "       [-0.81687255],\n",
       "       [-0.81687255],\n",
       "       [-0.81687255],\n",
       "       [-0.81686929],\n",
       "       [-0.8168644 ],\n",
       "       [-0.8168644 ],\n",
       "       [-0.8168644 ],\n",
       "       [-0.8168432 ],\n",
       "       [-0.81683994],\n",
       "       [-0.81681549],\n",
       "       [-0.81681549],\n",
       "       [-0.81680734],\n",
       "       [-0.81679918],\n",
       "       [-0.81676984],\n",
       "       [-0.81674375],\n",
       "       [-0.81670951],\n",
       "       [-0.81665082],\n",
       "       [-0.81654158],\n",
       "       [-0.81640626],\n",
       "       [-0.8162155 ],\n",
       "       [-0.81602149],\n",
       "       [-0.81569378],\n",
       "       [-0.81525358],\n",
       "       [-0.81485413],\n",
       "       [-0.81419382],\n",
       "       [-0.81328733],\n",
       "       [-0.81218845],\n",
       "       [-0.81104392],\n",
       "       [-0.80956516],\n",
       "       [-0.80728424],\n",
       "       [-0.80329958],\n",
       "       [-0.79670792],\n",
       "       [-0.78755004],\n",
       "       [-0.77692643],\n",
       "       [-0.76299641],\n",
       "       [-0.7459931 ],\n",
       "       [-0.72859361],\n",
       "       [-0.70477528],\n",
       "       [-0.67728858],\n",
       "       [-0.64897528],\n",
       "       [-0.6148366 ],\n",
       "       [-0.584769  ],\n",
       "       [-0.54973198],\n",
       "       [-0.50987064],\n",
       "       [-0.46562519],\n",
       "       [-0.41813365],\n",
       "       [-0.36535801],\n",
       "       [-0.30855532],\n",
       "       [-0.26650275],\n",
       "       [-0.21185869],\n",
       "       [-0.16581818],\n",
       "       [-0.11399959],\n",
       "       [-0.05738276],\n",
       "       [-0.00281533],\n",
       "       [ 0.04891848],\n",
       "       [ 0.09314437],\n",
       "       [ 0.13520999],\n",
       "       [ 0.17863372],\n",
       "       [ 0.22728447],\n",
       "       [ 0.27923676],\n",
       "       [ 0.33047168],\n",
       "       [ 0.37673555],\n",
       "       [ 0.41807238],\n",
       "       [ 0.46254119],\n",
       "       [ 0.50411118],\n",
       "       [ 0.54953376],\n",
       "       [ 0.60478922],\n",
       "       [ 0.66587982],\n",
       "       [ 0.72177276],\n",
       "       [ 0.7651378 ],\n",
       "       [ 0.80321875],\n",
       "       [ 0.8437192 ],\n",
       "       [ 0.88694076],\n",
       "       [ 0.93654529],\n",
       "       [ 0.99189368],\n",
       "       [ 1.04003412],\n",
       "       [ 1.08243886],\n",
       "       [ 1.11817043],\n",
       "       [ 1.15682854],\n",
       "       [ 1.19678118],\n",
       "       [ 1.24312656],\n",
       "       [ 1.28833883],\n",
       "       [ 1.32882623],\n",
       "       [ 1.36169321],\n",
       "       [ 1.39067986],\n",
       "       [ 1.42702609],\n",
       "       [ 1.46156421],\n",
       "       [ 1.50560749],\n",
       "       [ 1.54818342],\n",
       "       [ 1.58674208],\n",
       "       [ 1.61769498],\n",
       "       [ 1.65321133],\n",
       "       [ 1.68761087],\n",
       "       [ 1.72475109],\n",
       "       [ 1.76720148],\n",
       "       [ 1.80570634],\n",
       "       [ 1.84226125],\n",
       "       [ 1.87478095],\n",
       "       [ 1.90599797],\n",
       "       [ 1.93679436],\n",
       "       [ 1.96736249],\n",
       "       [ 2.00396957],\n",
       "       [ 2.04398416],\n",
       "       [ 2.08212544],\n",
       "       [ 2.11576848]])"
      ]
     },
     "execution_count": 137,
     "metadata": {},
     "output_type": "execute_result"
    }
   ],
   "source": [
    "y_data"
   ]
  },
  {
   "cell_type": "code",
   "execution_count": 138,
   "metadata": {},
   "outputs": [],
   "source": [
    "class RNN(nn.Module):\n",
    "    def __init__(self, input_size, output_size, hidden_dim, n_layers):\n",
    "        super(RNN, self).__init__()\n",
    "        \n",
    "        self.hidden_dim=hidden_dim\n",
    "\n",
    "        # define an RNN with specified parameters\n",
    "        # batch_first means that the first dim of the input and output will be the batch_size\n",
    "        self.rnn = nn.RNN(input_size, hidden_dim, n_layers, batch_first=True)\n",
    "        \n",
    "        # last, fully-connected layer\n",
    "        self.fc = nn.Linear(hidden_dim, output_size)\n",
    "\n",
    "    def forward(self, x, hidden):\n",
    "        # x (batch_size, seq_length, input_size)\n",
    "        # hidden (n_layers, batch_size, hidden_dim)\n",
    "        # r_out (batch_size, time_step, hidden_size)\n",
    "        batch_size = x.size(0)\n",
    "        \n",
    "        # get RNN outputs\n",
    "        r_out, hidden = self.rnn(x, hidden)\n",
    "        # shape output to be (batch_size*seq_length, hidden_dim)\n",
    "        r_out = r_out.view(-1, self.hidden_dim)  \n",
    "        \n",
    "        # get final output \n",
    "        output = self.fc(r_out)\n",
    "        \n",
    "        return output, hidden\n"
   ]
  },
  {
   "cell_type": "code",
   "execution_count": 205,
   "metadata": {},
   "outputs": [
    {
     "name": "stdout",
     "output_type": "stream",
     "text": [
      "Input size:  torch.Size([1, 132, 3])\n",
      "Output size:  torch.Size([132, 1])\n",
      "Hidden state size:  torch.Size([2, 1, 10])\n"
     ]
    }
   ],
   "source": [
    "# TESTING THE RNN MODEL AND CHECKING THE SHAPES OF THE DATA\n",
    "test_rnn = RNN(input_size=3, output_size=1, hidden_dim=10, n_layers=2)\n",
    "\n",
    "\n",
    "test_input = torch.Tensor(x_data).unsqueeze(0) # give it a batch_size of 1 as first dimension\n",
    "print('Input size: ', test_input.size())\n",
    "# test out rnn sizes\n",
    "test_out, test_h = test_rnn(test_input, None)\n",
    "test_out = torch.Tensor(y_data)\n",
    "print('Output size: ', test_out.size())\n",
    "print('Hidden state size: ', test_h.size())"
   ]
  },
  {
   "cell_type": "code",
   "execution_count": 206,
   "metadata": {},
   "outputs": [
    {
     "data": {
      "text/plain": [
       "tensor([[[ 0.5399,  0.6123,  0.5069, -0.7492,  0.4211, -0.2430, -0.2796,\n",
       "          -0.1471,  0.3352, -0.8030]],\n",
       "\n",
       "        [[-0.1839, -0.4305, -0.4575, -0.2711, -0.3956, -0.0688, -0.5681,\n",
       "          -0.0211,  0.0869, -0.5663]]], grad_fn=<StackBackward>)"
      ]
     },
     "execution_count": 206,
     "metadata": {},
     "output_type": "execute_result"
    }
   ],
   "source": [
    "#INITIALIZING THE HIDDEN STATE\n",
    "test_h"
   ]
  },
  {
   "cell_type": "code",
   "execution_count": 210,
   "metadata": {},
   "outputs": [
    {
     "name": "stdout",
     "output_type": "stream",
     "text": [
      "RNN(\n",
      "  (rnn): RNN(3, 32, batch_first=True)\n",
      "  (fc): Linear(in_features=32, out_features=1, bias=True)\n",
      ")\n"
     ]
    }
   ],
   "source": [
    "# defining the hyperparameters\n",
    "input_size=3\n",
    "output_size=1\n",
    "hidden_dim=32\n",
    "n_layers=1\n",
    "\n",
    "# instantiate an RNN\n",
    "rnn = RNN(input_size, output_size, hidden_dim, n_layers)\n",
    "print(rnn)\n",
    "\n",
    "# MSE loss and Adam optimizer with a learning rate of 0.01\n",
    "criterion = nn.MSELoss()\n",
    "optimizer = torch.optim.Adam(rnn.parameters(), lr=0.01) "
   ]
  },
  {
   "cell_type": "code",
   "execution_count": 211,
   "metadata": {},
   "outputs": [],
   "source": [
    "# train the RNN\n",
    "def train(rnn, n_steps, print_every):\n",
    "    \n",
    "    # initialize the hidden state\n",
    "    hidden = None      \n",
    "    Y = data['cases']\n",
    "    for batch_i, step in enumerate(range(n_steps)):\n",
    "        # defining the training data \n",
    "\n",
    "        x = x_data[:-1]\n",
    "        y = y_data[1:]\n",
    "        \n",
    "        \n",
    "        # convert data into Tensors\n",
    "        x_tensor = torch.Tensor(x).unsqueeze(0) # unsqueeze gives a 1, batch_size dimension\n",
    "        y_tensor = torch.Tensor(y)\n",
    "\n",
    "        # outputs from the rnn\n",
    "        prediction, hidden = rnn(x_tensor, hidden)\n",
    "\n",
    "        ## Representing Memory ##\n",
    "        # make a new variable for hidden and detach the hidden state from its history\n",
    "        # this way, we don't backpropagate through the entire history\n",
    "        hidden = hidden.data\n",
    "\n",
    "        # calculate the loss\n",
    "        loss = criterion(prediction, y_tensor)\n",
    "        # zero gradients\n",
    "        optimizer.zero_grad()\n",
    "        # perform backprop and update weights\n",
    "        loss.backward()\n",
    "        optimizer.step()\n",
    "\n",
    "        # display loss and predictions\n",
    "        if batch_i%print_every == 0:        \n",
    "            print('Loss: ', loss.item())\n",
    "            plt.plot(Y,'r',linewidth=1,label='cases_real')\n",
    "            plt.plot(sc_y.inverse_transform(prediction.data.numpy()), 'b--',linewidth=2,label='cases_predictons') # predictions\n",
    "            plt.legend()\n",
    "            plt.show()\n",
    "    \n",
    "    return rnn\n"
   ]
  },
  {
   "cell_type": "code",
   "execution_count": 212,
   "metadata": {},
   "outputs": [
    {
     "name": "stdout",
     "output_type": "stream",
     "text": [
      "Loss:  0.944398820400238\n"
     ]
    },
    {
     "data": {
      "image/png": "[encoded data removed]",
      "text/plain": [
       "<Figure size 432x288 with 1 Axes>"
      ]
     },
     "metadata": {
      "needs_background": "light"
     },
     "output_type": "display_data"
    },
    {
     "name": "stdout",
     "output_type": "stream",
     "text": [
      "Loss:  0.08162795007228851\n"
     ]
    },
    {
     "data": {
      "image/png": "[encoded data removed]",
      "text/plain": [
       "<Figure size 432x288 with 1 Axes>"
      ]
     },
     "metadata": {
      "needs_background": "light"
     },
     "output_type": "display_data"
    },
    {
     "name": "stdout",
     "output_type": "stream",
     "text": [
      "Loss:  0.04738888517022133\n"
     ]
    },
    {
     "data": {
      "image/png": "[encoded data removed]",
      "text/plain": [
       "<Figure size 432x288 with 1 Axes>"
      ]
     },
     "metadata": {
      "needs_background": "light"
     },
     "output_type": "display_data"
    },
    {
     "name": "stdout",
     "output_type": "stream",
     "text": [
      "Loss:  0.03066916950047016\n"
     ]
    },
    {
     "data": {
      "image/png": "[encoded data removed]",
      "text/plain": [
       "<Figure size 432x288 with 1 Axes>"
      ]
     },
     "metadata": {
      "needs_background": "light"
     },
     "output_type": "display_data"
    },
    {
     "name": "stdout",
     "output_type": "stream",
     "text": [
      "Loss:  0.02733958140015602\n"
     ]
    },
    {
     "data": {
      "image/png": "[encoded data removed]",
      "text/plain": [
       "<Figure size 432x288 with 1 Axes>"
      ]
     },
     "metadata": {
      "needs_background": "light"
     },
     "output_type": "display_data"
    },
    {
     "name": "stdout",
     "output_type": "stream",
     "text": [
      "Loss:  0.01893324963748455\n"
     ]
    },
    {
     "data": {
      "image/png": "[encoded data removed]",
      "text/plain": [
       "<Figure size 432x288 with 1 Axes>"
      ]
     },
     "metadata": {
      "needs_background": "light"
     },
     "output_type": "display_data"
    }
   ],
   "source": [
    "# train the rnn and monitor results\n",
    "n_steps = 80\n",
    "print_every = 15\n",
    "\n",
    "trained_rnn = train(rnn, n_steps, print_every)"
   ]
  }
 ],
 "metadata": {
  "kernelspec": {
   "display_name": "Python 3",
   "language": "python",
   "name": "python3"
  },
  "language_info": {
   "codemirror_mode": {
    "name": "ipython",
    "version": 3
   },
   "file_extension": ".py",
   "mimetype": "text/x-python",
   "name": "python",
   "nbconvert_exporter": "python",
   "pygments_lexer": "ipython3",
   "version": "3.7.3"
  }
 },
 "nbformat": 4,
 "nbformat_minor": 2
}
